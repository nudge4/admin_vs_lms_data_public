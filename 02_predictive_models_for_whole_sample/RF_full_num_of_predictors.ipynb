{
 "cells": [
  {
   "cell_type": "markdown",
   "metadata": {},
   "source": [
    "This script is used to find out how model performance changes with number of predictors for the full-predictor, non-first-term model."
   ]
  },
  {
   "cell_type": "code",
   "execution_count": 2,
   "metadata": {
    "collapsed": true
   },
   "outputs": [],
   "source": [
    "import pickle\n",
    "import pandas as pd\n",
    "import numpy as np\n",
    "from collections import Counter\n",
    "import sklearn\n",
    "from sklearn.linear_model import LinearRegression\n",
    "from sklearn.ensemble import RandomForestClassifier\n",
    "from sklearn.metrics import precision_recall_curve, roc_auc_score, confusion_matrix, precision_score, recall_score\n",
    "from sklearn.model_selection import KFold, StratifiedKFold\n",
    "from scipy.stats.mstats import gmean\n",
    "import seaborn as sns\n",
    "import matplotlib.pyplot as plt\n",
    "\n",
    "results_dir = \"~\\\\Box Sync\\\\Clickstream\\\\evaluation_results\\\\full\\\\updated\\\\\""
   ]
  },
  {
   "cell_type": "code",
   "execution_count": 3,
   "metadata": {
    "collapsed": true
   },
   "outputs": [],
   "source": [
    "sn_dict = {\"Blue Ridge\": \"BRCC\",\n",
    "           \"Central Virginia\": \"CVCC\",\n",
    "           \"Dabney S. Lancaster\": \"DSLCC\",\n",
    "           \"Danville\": \"DCC\",\n",
    "           \"Eastern Shore\": \"ESCC\",\n",
    "           \"Germanna\": \"GCC\",\n",
    "           'J. Sargeant Reynolds': \"JSRCC\",\n",
    "           'John Tyler': \"JTCC\",\n",
    "           \"Lord Fairfax\": \"LFCC\",\n",
    "           \"Mountain Empire\": \"MECC\",\n",
    "           \"New River\": \"NRCC\",\n",
    "           \"Northern Virginia\": \"NVCC\",\n",
    "           \"Patrick Henry\": \"PHCC\",\n",
    "           \"Paul D. Camp\": \"PDCCC\",\n",
    "           \"Piedmont Virginia\": \"PVCC\",\n",
    "           \"Rappahannock\": \"RCC\",\n",
    "           \"Southside Virginia\": \"SSVCC\",\n",
    "           \"Southwest Virginia\": \"SWVCC\",\n",
    "           \"Thomas Nelson\": \"TNCC\",\n",
    "           \"Tidewater\": \"TCC\",\n",
    "           \"Virginia Highlands\": \"VHCC\",\n",
    "           \"Virginia Western\": \"VWCC\",\n",
    "           \"Wytheville\": \"WCC\"}"
   ]
  },
  {
   "cell_type": "code",
   "execution_count": 4,
   "metadata": {},
   "outputs": [
    {
     "data": {
      "text/plain": [
       "329"
      ]
     },
     "execution_count": 4,
     "metadata": {},
     "output_type": "execute_result"
    }
   ],
   "source": [
    "df0 = pd.read_csv(\"~\\\\Box Sync\\\\Clickstream\\\\data\\\\full\\\\updated\\\\LMS_data_final_full_new.csv\")\n",
    "df1 = pd.read_csv(\"~\\\\Box Sync\\\\Clickstream\\\\data\\\\full\\\\updated\\\\course_specific_predictors_new.csv\")\n",
    "df2 = pd.read_csv(\"~\\\\Box Sync\\\\Clickstream\\\\data\\\\full\\\\updated\\\\term_specific_predictors_new.csv\")\n",
    "for v in [int(e) for e in np.unique(df2.cip) if e != 0]:\n",
    "    df2.loc[:,'cip_'+str(v)] = (df2.cip == v).astype(int)\n",
    "for v in [int(e) for e in np.unique(df2.degree_level) if e != 4]:\n",
    "    df2.loc[:,'degree_level_'+str(v)] = (df2.degree_level == v).astype(int)\n",
    "df2 = df2.drop(['cip', 'degree_level'], axis=1)\n",
    "df3 = pd.read_csv(\"~\\\\Box Sync\\\\Clickstream\\\\data\\\\full\\\\updated\\\\cluster_specific_predictors.csv\")\n",
    "df4 = pd.read_stata(\"~\\\\Box Sync\\\\Clickstream\\\\data\\\\full\\\\updated\\\\instructor_related_predictors.dta\")\n",
    "df5 = df0.loc[:,['vccsid','strm','college','course','section']].copy()\n",
    "df5.loc[:,'college_new'] = df5.college.apply(lambda x: sn_dict[x])\n",
    "for sn in [e for e in sn_dict.values() if e != \"BRCC\"]:\n",
    "    df5.loc[:,'college_'+sn] = (df5.college_new == sn).astype(int)\n",
    "df5 = df5.drop(['college_new'], axis=1)\n",
    "df = df0.merge(df1, how='inner', on=['vccsid','strm','college','course','section'])\\\n",
    ".merge(df2, how='inner', on=['vccsid','strm'])\\\n",
    ".merge(df3, how='inner', on=['vccsid','strm','college','course','section'])\\\n",
    ".merge(df4, how='inner', on=['vccsid','strm','college','course','section'])\\\n",
    ".merge(df5, how='inner', on=['vccsid','strm','college','course','section'])\n",
    "predictors = [e for e in list(df.columns)[5:] if e != \"grade\"]\n",
    "len(predictors)"
   ]
  },
  {
   "cell_type": "code",
   "execution_count": 5,
   "metadata": {
    "collapsed": true
   },
   "outputs": [],
   "source": [
    "assert pd.isnull(df).any().any() == False"
   ]
  },
  {
   "cell_type": "code",
   "execution_count": 6,
   "metadata": {},
   "outputs": [
    {
     "data": {
      "text/plain": [
       "(969025, 335)"
      ]
     },
     "execution_count": 6,
     "metadata": {},
     "output_type": "execute_result"
    }
   ],
   "source": [
    "df.shape"
   ]
  },
  {
   "cell_type": "code",
   "execution_count": 7,
   "metadata": {},
   "outputs": [
    {
     "name": "stderr",
     "output_type": "stream",
     "text": [
      "C:\\Users\\ys8mz\\AppData\\Local\\Continuum\\Anaconda3\\lib\\site-packages\\pandas\\core\\indexing.py:543: SettingWithCopyWarning: \n",
      "A value is trying to be set on a copy of a slice from a DataFrame.\n",
      "Try using .loc[row_indexer,col_indexer] = value instead\n",
      "\n",
      "See the caveats in the documentation: http://pandas.pydata.org/pandas-docs/stable/indexing.html#indexing-view-versus-copy\n",
      "  self.obj[item] = s\n"
     ]
    },
    {
     "name": "stdout",
     "output_type": "stream",
     "text": [
      "(698361, 335) (270664, 335)\n"
     ]
    }
   ],
   "source": [
    "train_df = df[df.strm != 2212]\n",
    "test_df = df[df.strm == 2212]\n",
    "original_test_grade = np.array(test_df.grade)\n",
    "train_df.loc[:,'grade'] = train_df.apply(lambda x: 1 if x.loc['grade'] in {'A','B','C'} else 0, axis=1)\n",
    "test_df.loc[:,'grade'] = test_df.apply(lambda x: 1 if x.loc['grade'] in {'A','B','C'} else 0, axis=1)\n",
    "print(train_df.shape,test_df.shape)"
   ]
  },
  {
   "cell_type": "code",
   "execution_count": 8,
   "metadata": {
    "collapsed": true
   },
   "outputs": [],
   "source": [
    "# raw_predictors = {\\\n",
    "# 10: 'pct_withdrawn, cum_gpa, tot_click_cnt_qrt1, crnt_enrl_intensity, term_gpa_1, has_term_gpa_1, tot_time_qrt1, overall_prop_comp, term_gpa_2, has_term_gpa_2',\n",
    "# 20: 'avg_g, past_avg_grade, has_past_avg_grade, disc_post_cnt_qtr1, assign_sub_cnt_qtr1, has_assign_sub_cnt_qtr1, prop_comp_sd, disc_reply_cnt_qtr1, gpa_trend, avg_depth_post_qtr1',\n",
    "# 30: 'avg_word_tot_qtr1, tot_click_cnt_qrt1c, has_concurrent_qtr1, irreg_session_len_qrt1, avg_g_concurrent, has_avg_g_concurrent, cum_cred_earn, tot_time_qrt1c, on_time_assign_share_qtr1, has_on_time_assign_share_qtr1',\n",
    "# 40: 'avg_session_len_qrt1, irreg_session_len_qrt1c, avg_session_len_qrt1c, enrl_intensity_trend, section_size, enrl_intensity, age, prior_has_full, prior_tot_act_day_cnt, prior_tot_click_cnt',\n",
    "# 50: 'has_assign_sub_cnt_qtr1c, assign_sub_cnt_qtr1c, pct_stopped, prior_tot_act_wk_cnt, num_of_prior_terms, prior_tot_click_cnt_qrt1, prior_has_qtr1, lvl2_share, prior_tot_time, prior_disc_post_cnt',\n",
    "# 60: 'pct_dev, prior_tot_session_cnt, prior_disc_reply_cnt, prior_tot_time_qrt1, online_share, prior_avg_session_len, prior_irreg_session_len, prior_irreg_session_len_qrt1, prior_avg_session_len_qrt1, prior_avg_word_tot',\n",
    "# 70: 'prior_assign_sub_cnt, prior_has_assign_sub_cnt, prior_avg_depth_post, prior_disc_post_cnt_qtr1, prior_on_time_assign_share, prior_has_on_time_assign_share, prior_disc_reply_cnt_qtr1, prior_avg_depth_post_qtr1, prior_avg_word_tot_qtr1, eve_share',\n",
    "# 80: 'prior_assign_sub_cnt_qtr1, prior_has_assign_sub_cnt_qtr1, prior_on_time_assign_share_qtr1, prior_has_on_time_assign_share_qtr1, on_time_assign_share_qtr1c, has_on_time_assign_share_qtr1c, HUM_SOC_grade, HUM_SOC, SOC_SOC_grade, SOC_SOC',\n",
    "# 90: 'HUM_MTH_grade, HUM_MTH, prereq_grade, has_prereq_grade, HUM_HUM_grade, HUM_HUM, summer_ind, pct_incomplete, HUM_SCI_grade, HUM_SCI',\n",
    "# 100: 'SCI_MED_grade, SCI_MED, online_ind, SOC_MTH_grade, SOC_MTH, SOC_HUM_grade, SOC_HUM, full_time, MED_MED_grade, MED_MED',\n",
    "# 110: 'SOC_SCI_grade, SOC_SCI, HUM_MED_grade, HUM_MED, MTH_SOC_grade, MTH_SOC, SCI_SCI_grade, SCI_SCI, degree_level_1, college_NVCC',\n",
    "# 120: 'MTH_MTH_grade, MTH_MTH, tenure, MTH_SCI_grade, MTH_SCI, SCI_SOC_grade, SCI_SOC, cip_24, ever_dual, lvl2_ind',\n",
    "# 130: 'MTH_HUM_grade, MTH_HUM, has_repeat_grade, repeat_grade, HUM_EGR_grade, HUM_EGR, SOC_MED_grade, SOC_MED, EGR_EGR_grade, EGR_EGR',\n",
    "# 140: 'EGR_SOC_grade, EGR_SOC, college_TCC, degree_level_2, SCI_MTH_grade, SCI_MTH, SCI_HUM_grade, SCI_HUM, MTH_EGR_grade, MTH_EGR',\n",
    "# 150: 'SOC_EGR_grade, SOC_EGR, EGR_MTH_grade, EGR_MTH, EGR_HUM_grade, EGR_HUM, MED_SCI_grade, MED_SCI, dev, cip_52',\n",
    "# 160: 'EGR_SCI_grade, EGR_SCI, MTH_MED_grade, MTH_MED, MED_SOC_grade, MED_SOC, eve_ind, MED_HUM_grade, MED_HUM, cip_51',\n",
    "# 170: 'cip_30, HUM_BUS_grade, HUM_BUS, cip_11, BUS_BUS_grade, BUS_BUS, cip_45, college_JSRCC, SOC_BUS_grade, SOC_BUS',\n",
    "# 180: 'degree_level_3, SCI_EGR_grade, SCI_EGR, college_JTCC, HUM_ART_grade, HUM_ART, college_TNCC, MED_MTH_grade, MED_MTH, college_GCC',\n",
    "# 190: 'EGR_MED_grade, EGR_MED, ART_SOC_grade, ART_SOC, ART_SCI_grade, ART_SCI, BUS_SOC_grade, BUS_SOC, MTH_BUS_grade, MTH_BUS',\n",
    "# 200: 'BUS_HUM_grade, BUS_HUM, MED_EGR_grade, MED_EGR, ART_HUM_grade, ART_HUM, EGR_BUS_grade, EGR_BUS, college_LFCC, cip_14',\n",
    "# 210: 'SOC_ART_grade, SOC_ART, ART_MTH_grade, ART_MTH, college_VWCC, BUS_MTH_grade, BUS_MTH, FLA_HUM_grade, FLA_HUM, college_PVCC',\n",
    "# 220: 'BUS_SCI_grade, BUS_SCI, BUS_EGR_grade, BUS_EGR, ART_EGR_grade, ART_EGR, MTH_ART_grade, MTH_ART, cip_43, college_NRCC',\n",
    "# 230: 'FLA_SCI_grade, FLA_SCI, OCC_OCC_grade, OCC_OCC, FLA_SOC_grade, FLA_SOC, SCI_BUS_grade, SCI_BUS, FLA_MTH_grade, FLA_MTH',\n",
    "# 240: 'college_DCC, college_SWVCC, ART_ART_grade, ART_ART, cip_99, MED_BUS_grade, MED_BUS, cip_50, college_CVCC, college_PHCC',\n",
    "# 250: 'HUM_OCC_grade, HUM_OCC, cip_15, college_MECC, EGR_ART_grade, EGR_ART, SCI_ART_grade, SCI_ART, college_SSVCC, college_RCC',\n",
    "# 260: 'ART_MED_grade, ART_MED, FLA_EGR_grade, FLA_EGR, HUM_FLA_grade, HUM_FLA, OCC_HUM_grade, OCC_HUM, college_VHCC, college_WCC',\n",
    "# 270: 'SOC_FLA_grade, SOC_FLA, cip_19, ART_BUS_grade, ART_BUS, MED_ART_grade, MED_ART, OCC_EGR_grade, OCC_EGR, cip_47',\n",
    "# 280: 'BUS_MED_grade, BUS_MED, SOC_OCC_grade, SOC_OCC, MTH_FLA_grade, MTH_FLA, MTH_OCC_grade, MTH_OCC, EGR_OCC_grade, EGR_OCC',\n",
    "# 290: 'OCC_SCI_grade, OCC_SCI, OCC_SOC_grade, OCC_SOC, college_PDCCC, BUS_ART_grade, BUS_ART, FLA_MED_grade, FLA_MED, college_DSLCC',\n",
    "# 300: 'SCI_FLA_grade, SCI_FLA, OCC_MTH_grade, OCC_MTH, FLA_FLA_grade, FLA_FLA, FLA_BUS_grade, FLA_BUS, cip_42, college_ESCC',\n",
    "# 309: 'EGR_FLA_grade, EGR_FLA, MED_FLA_grade, MED_FLA, cip_48, SCI_OCC_grade, SCI_OCC, FLA_ART_grade, FLA_ART',\n",
    "# 319: 'MED_OCC_grade, MED_OCC, OCC_MED_grade, OCC_MED, ART_FLA_grade, ART_FLA, OCC_BUS_grade, OCC_BUS, OCC_ART_grade, OCC_ART',\n",
    "# 329: 'BUS_FLA_grade, BUS_FLA, ART_OCC_grade, ART_OCC, BUS_OCC_grade, BUS_OCC, OCC_FLA_grade, OCC_FLA, FLA_OCC_grade, FLA_OCC'}"
   ]
  },
  {
   "cell_type": "code",
   "execution_count": 9,
   "metadata": {
    "collapsed": true
   },
   "outputs": [],
   "source": [
    "raw_predictors = {\\\n",
    "5: 'pct_withdrawn, cum_gpa, tot_click_cnt_qrt1, crnt_enrl_intensity, tot_time_qrt1',\n",
    "15: 'term_gpa_1, has_term_gpa_1, overall_prop_comp, term_gpa_2, has_term_gpa_2, avg_g, past_avg_grade, has_past_avg_grade, disc_post_cnt_qtr1, prop_comp_sd',\n",
    "25: 'assign_sub_cnt_qtr1, has_assign_sub_cnt_qtr1, disc_reply_cnt_qtr1, gpa_trend, avg_depth_post_qtr1, avg_word_tot_qtr1, has_concurrent_qtr1, tot_click_cnt_qrt1c, irreg_session_len_qrt1, cum_cred_earn',\n",
    "35: 'avg_g_concurrent, has_avg_g_concurrent, tot_time_qrt1c, on_time_assign_share_qtr1, has_on_time_assign_share_qtr1, avg_session_len_qrt1, irreg_session_len_qrt1c, avg_session_len_qrt1c, enrl_intensity_trend, section_size',\n",
    "45: 'enrl_intensity, age, prior_has_full, prior_tot_act_day_cnt, prior_tot_click_cnt, has_assign_sub_cnt_qtr1c, assign_sub_cnt_qtr1c, pct_stopped, prior_tot_act_wk_cnt, num_of_prior_terms'}"
   ]
  },
  {
   "cell_type": "code",
   "execution_count": 10,
   "metadata": {
    "collapsed": true
   },
   "outputs": [],
   "source": [
    "clean_predictors = {}\n",
    "for k,v in raw_predictors.items():\n",
    "    clean_predictors[k] = [p.strip() for p in v.split(\",\")]\n",
    "num_of_predictors = sorted(list(clean_predictors.keys()))\n",
    "clean_predictors_2 = {}\n",
    "for k,v in clean_predictors.items():\n",
    "    clean_predictors_2[k] = []\n",
    "    for n in num_of_predictors:\n",
    "        if n <= k:\n",
    "            clean_predictors_2[k] += clean_predictors[n]\n",
    "    assert len(clean_predictors_2[k]) == k"
   ]
  },
  {
   "cell_type": "code",
   "execution_count": 11,
   "metadata": {
    "collapsed": true
   },
   "outputs": [],
   "source": [
    "def create_cv_folds(train, predictors, n_fold = 5):\n",
    "    folds = []\n",
    "    k_fold = StratifiedKFold(n_splits = n_fold, random_state = 12345, shuffle=True)\n",
    "    for train_indices, test_indices in k_fold.split(train, train.grade):\n",
    "        train_part = train.iloc[train_indices,:]\n",
    "        test_part = train.iloc[test_indices,:]\n",
    "        X_1 = train_part.loc[:,predictors]\n",
    "        y_1 = train_part.grade\n",
    "        X_2 = test_part.loc[:,predictors]\n",
    "        y_2 = test_part.grade\n",
    "        folds.append([(X_1.copy(),y_1.copy()),(X_2.copy(),y_2.copy())])\n",
    "    return folds"
   ]
  },
  {
   "cell_type": "code",
   "execution_count": 12,
   "metadata": {
    "collapsed": true
   },
   "outputs": [],
   "source": [
    "def cross_validation_RF(rf_model, folds):\n",
    "    auc_by_fold = []\n",
    "    for f in folds:\n",
    "        X_1 = f[0][0]\n",
    "        y_1 = f[0][1]\n",
    "        X_2 = f[1][0]\n",
    "        y_2 = f[1][1]\n",
    "        rf_model.fit(X_1,y_1)\n",
    "        y_2_pred = rf_model.predict_proba(X_2)[:,1]\n",
    "        auc_by_fold.append(roc_auc_score(y_2,y_2_pred))\n",
    "    return round(np.mean(auc_by_fold),4)  "
   ]
  },
  {
   "cell_type": "code",
   "execution_count": 13,
   "metadata": {
    "collapsed": true
   },
   "outputs": [],
   "source": [
    "def calc_cw(y):\n",
    "    # Calculate the weight of each letter grade to be used in the modeling fitting procedure: the weight is inversely proportional to the square root of the frequency of the letter grade in the training sample\n",
    "    cw = Counter(y)\n",
    "    class_weight = {k:np.sqrt(cw.most_common()[0][-1]/v, dtype=np.float32) for k,v in cw.items()}\n",
    "    return class_weight # The output is a dictionary mapping letter grade to the corresponding weight"
   ]
  },
  {
   "cell_type": "code",
   "execution_count": 14,
   "metadata": {},
   "outputs": [
    {
     "name": "stdout",
     "output_type": "stream",
     "text": [
      "n = 5:\n",
      "\n",
      "max_depth = 5: 0.8096\n",
      "max_depth = 6: 0.8121\n",
      "max_depth = 7: 0.8139\n",
      "max_depth = 8: 0.8152\n",
      "max_depth = 9: 0.8164\n",
      "max_depth = 10: 0.8174\n",
      "max_depth = 11: 0.8184\n",
      "max_depth = 12: 0.8192\n",
      "\n",
      "C-statistic = 0.8338\n",
      "\n",
      "\n",
      "\n",
      "\n",
      "n = 15:\n",
      "\n",
      "max_depth = 5: 0.8253\n",
      "max_depth = 6: 0.8304\n",
      "max_depth = 7: 0.8338\n",
      "max_depth = 8: 0.8367\n",
      "max_depth = 9: 0.8391\n",
      "max_depth = 10: 0.8411\n",
      "max_depth = 11: 0.8428\n",
      "max_depth = 12: 0.8443\n",
      "max_depth = 13: 0.8456\n",
      "max_depth = 14: 0.8468\n",
      "max_depth = 15: 0.848\n",
      "max_depth = 16: 0.849\n",
      "max_depth = 17: 0.8501\n",
      "max_depth = 18: 0.8509\n",
      "\n",
      "C-statistic = 0.8582\n",
      "\n",
      "\n",
      "\n",
      "\n",
      "n = 25:\n",
      "\n",
      "max_depth = 5: 0.8292\n",
      "max_depth = 6: 0.8341\n",
      "max_depth = 7: 0.8385\n",
      "max_depth = 8: 0.842\n",
      "max_depth = 9: 0.845\n",
      "max_depth = 10: 0.8479\n",
      "max_depth = 11: 0.8504\n",
      "max_depth = 12: 0.8525\n",
      "max_depth = 13: 0.8543\n",
      "max_depth = 14: 0.8559\n",
      "max_depth = 15: 0.8573\n",
      "max_depth = 16: 0.8586\n",
      "max_depth = 17: 0.8597\n",
      "max_depth = 18: 0.8605\n",
      "\n",
      "C-statistic = 0.8674\n",
      "\n",
      "\n",
      "\n",
      "\n",
      "n = 35:\n",
      "\n",
      "max_depth = 5: 0.8292\n",
      "max_depth = 6: 0.8341\n",
      "max_depth = 7: 0.8387\n",
      "max_depth = 8: 0.843\n",
      "max_depth = 9: 0.8463\n",
      "max_depth = 10: 0.8496\n",
      "max_depth = 11: 0.8522\n",
      "max_depth = 12: 0.8547\n",
      "max_depth = 13: 0.8567\n",
      "max_depth = 14: 0.8584\n",
      "max_depth = 15: 0.8599\n",
      "max_depth = 16: 0.8611\n",
      "max_depth = 17: 0.8622\n",
      "max_depth = 18: 0.863\n",
      "\n",
      "C-statistic = 0.8703\n",
      "\n",
      "\n",
      "\n",
      "\n",
      "n = 45:\n",
      "\n",
      "max_depth = 5: 0.8291\n",
      "max_depth = 6: 0.8342\n",
      "max_depth = 7: 0.839\n",
      "max_depth = 8: 0.8433\n",
      "max_depth = 9: 0.8468\n",
      "max_depth = 10: 0.85\n",
      "max_depth = 11: 0.853\n",
      "max_depth = 12: 0.8553\n",
      "max_depth = 13: 0.8579\n",
      "max_depth = 14: 0.8597\n",
      "max_depth = 15: 0.8615\n",
      "max_depth = 16: 0.863\n",
      "max_depth = 17: 0.8645\n",
      "max_depth = 18: 0.8658\n",
      "max_depth = 19: 0.8667\n",
      "\n",
      "C-statistic = 0.8713\n",
      "\n",
      "\n",
      "\n",
      "\n"
     ]
    }
   ],
   "source": [
    "cstat_by_num = []\n",
    "for n in sorted(list(clean_predictors_2.keys())):\n",
    "    print(\"n = {}:\\n\".format(n))\n",
    "    predictors_list = clean_predictors_2[n]\n",
    "    five_folds = create_cv_folds(train_df, predictors_list)\n",
    "    auc_by_d=[]\n",
    "    for d in range(5,36):\n",
    "        rf = RandomForestClassifier(n_estimators=200, criterion=\"entropy\", \n",
    "                                    max_depth=d,\n",
    "                                    random_state=0, n_jobs=20, max_features=\"auto\",\n",
    "                                    class_weight = calc_cw(train_df.grade))\n",
    "        auc = cross_validation_RF(rf, five_folds)\n",
    "        auc_by_d.append(auc)\n",
    "        print(\"max_depth = {0}: {1}\".format(d, auc))\n",
    "        if d > 5:\n",
    "            if auc - auc_by_d[-2] < 0.001:\n",
    "                break\n",
    "            else:\n",
    "                best_d = d\n",
    "        else:\n",
    "            best_d = d\n",
    "    rf = RandomForestClassifier(n_estimators=200, criterion=\"entropy\",\n",
    "                                max_depth=best_d,\n",
    "                                random_state=0, n_jobs=-1, max_features=\"auto\",\n",
    "                                class_weight = calc_cw(train_df.grade))\n",
    "    rf.fit(train_df.loc[:,predictors_list], train_df.grade)\n",
    "    cstat_by_num.append(round(roc_auc_score(test_df.grade, rf.predict_proba(test_df.loc[:,predictors_list])[:,1]),4))\n",
    "    print(\"\\nC-statistic = {}\".format(cstat_by_num[-1]))\n",
    "    print(\"\\n\\n\\n\")"
   ]
  },
  {
   "cell_type": "code",
   "execution_count": 15,
   "metadata": {},
   "outputs": [
    {
     "data": {
      "text/plain": [
       "[0.8338, 0.8582, 0.8674, 0.8703, 0.8713]"
      ]
     },
     "execution_count": 15,
     "metadata": {},
     "output_type": "execute_result"
    }
   ],
   "source": [
    "cstat_by_num"
   ]
  },
  {
   "cell_type": "code",
   "execution_count": null,
   "metadata": {
    "collapsed": true
   },
   "outputs": [],
   "source": []
  }
 ],
 "metadata": {
  "kernelspec": {
   "display_name": "Python 3",
   "language": "python",
   "name": "python3"
  },
  "language_info": {
   "codemirror_mode": {
    "name": "ipython",
    "version": 3
   },
   "file_extension": ".py",
   "mimetype": "text/x-python",
   "name": "python",
   "nbconvert_exporter": "python",
   "pygments_lexer": "ipython3",
   "version": "3.5.3"
  }
 },
 "nbformat": 4,
 "nbformat_minor": 2
}
