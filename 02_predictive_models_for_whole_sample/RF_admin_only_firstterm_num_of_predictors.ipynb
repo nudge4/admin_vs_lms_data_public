{
 "cells": [
  {
   "cell_type": "markdown",
   "metadata": {},
   "source": [
    "This script is used to find out how model performance changes with number of predictors for the admin-only, first-term model."
   ]
  },
  {
   "cell_type": "code",
   "execution_count": 1,
   "metadata": {
    "collapsed": true
   },
   "outputs": [],
   "source": [
    "import pickle\n",
    "import pandas as pd\n",
    "import numpy as np\n",
    "from collections import Counter\n",
    "import sklearn\n",
    "from sklearn.linear_model import LinearRegression\n",
    "from sklearn.ensemble import RandomForestClassifier\n",
    "from sklearn.metrics import precision_recall_curve, roc_auc_score, confusion_matrix, precision_score, recall_score\n",
    "from sklearn.model_selection import KFold, StratifiedKFold\n",
    "from scipy.stats.mstats import gmean\n",
    "import seaborn as sns\n",
    "import matplotlib.pyplot as plt\n",
    "\n",
    "results_dir = \"~\\\\Box Sync\\\\Clickstream\\\\evaluation_results\\\\first\\\\\""
   ]
  },
  {
   "cell_type": "code",
   "execution_count": 2,
   "metadata": {
    "collapsed": true
   },
   "outputs": [],
   "source": [
    "sn_dict = {\"Blue Ridge\": \"BRCC\",\n",
    "           \"Central Virginia\": \"CVCC\",\n",
    "           \"Dabney S. Lancaster\": \"DSLCC\",\n",
    "           \"Danville\": \"DCC\",\n",
    "           \"Eastern Shore\": \"ESCC\",\n",
    "           \"Germanna\": \"GCC\",\n",
    "           'J. Sargeant Reynolds': \"JSRCC\",\n",
    "           'John Tyler': \"JTCC\",\n",
    "           \"Lord Fairfax\": \"LFCC\",\n",
    "           \"Mountain Empire\": \"MECC\",\n",
    "           \"New River\": \"NRCC\",\n",
    "           \"Northern Virginia\": \"NVCC\",\n",
    "           \"Patrick Henry\": \"PHCC\",\n",
    "           \"Paul D. Camp\": \"PDCCC\",\n",
    "           \"Piedmont Virginia\": \"PVCC\",\n",
    "           \"Rappahannock\": \"RCC\",\n",
    "           \"Southside Virginia\": \"SSVCC\",\n",
    "           \"Southwest Virginia\": \"SWVCC\",\n",
    "           \"Thomas Nelson\": \"TNCC\",\n",
    "           \"Tidewater\": \"TCC\",\n",
    "           \"Virginia Highlands\": \"VHCC\",\n",
    "           \"Virginia Western\": \"VWCC\",\n",
    "           \"Wytheville\": \"WCC\"}"
   ]
  },
  {
   "cell_type": "code",
   "execution_count": 3,
   "metadata": {},
   "outputs": [
    {
     "data": {
      "text/plain": [
       "59"
      ]
     },
     "execution_count": 3,
     "metadata": {},
     "output_type": "execute_result"
    }
   ],
   "source": [
    "df0 = pd.read_stata(\"~\\\\Box Sync\\\\Clickstream\\\\data\\\\first\\\\LMS_data_final.dta\").loc[:,['vccsid','strm', 'college', 'course','section','grade']]\n",
    "df1 = pd.read_csv(\"~\\\\Box Sync\\\\Clickstream\\\\data\\\\first\\\\course_specific_predictors_new.csv\")\n",
    "df2 = pd.read_csv(\"~\\\\Box Sync\\\\Clickstream\\\\data\\\\first\\\\term_specific_predictors_new.csv\")\n",
    "for v in [int(e) for e in np.unique(df2.cip) if e != 0]:\n",
    "    df2.loc[:,'cip_'+str(v)] = (df2.cip == v).astype(int)\n",
    "for v in [int(e) for e in np.unique(df2.degree_level) if e != 4]:\n",
    "    df2.loc[:,'degree_level_'+str(v)] = (df2.degree_level == v).astype(int)\n",
    "df2 = df2.drop(['cip', 'degree_level'], axis=1)\n",
    "df4 = pd.read_stata(\"~\\\\Box Sync\\\\Clickstream\\\\data\\\\first\\\\instructor_related_predictors.dta\")\n",
    "df5 = df0.iloc[:,:5].copy()\n",
    "df5.loc[:,'college_new'] = df5.college.apply(lambda x: sn_dict[x])\n",
    "for sn in [e for e in sn_dict.values() if e != \"BRCC\"]:\n",
    "    df5.loc[:,'college_'+sn] = (df5.college_new == sn).astype(int)\n",
    "df5 = df5.drop(['college_new'], axis=1)\n",
    "df = df0.merge(df1, how='inner', on=['vccsid','strm','college','course','section'])\\\n",
    ".merge(df2, how='inner', on=['vccsid','strm'])\\\n",
    ".merge(df4, how='inner', on=['vccsid','strm','college','course','section'])\\\n",
    ".merge(df5, how='inner', on=['vccsid','strm','college','course','section'])\n",
    "predictors = list(df.columns)[6:]\n",
    "len(predictors)"
   ]
  },
  {
   "cell_type": "code",
   "execution_count": 4,
   "metadata": {
    "collapsed": true
   },
   "outputs": [],
   "source": [
    "assert pd.isnull(df).any().any() == False"
   ]
  },
  {
   "cell_type": "code",
   "execution_count": 5,
   "metadata": {},
   "outputs": [
    {
     "data": {
      "text/plain": [
       "(204853, 65)"
      ]
     },
     "execution_count": 5,
     "metadata": {},
     "output_type": "execute_result"
    }
   ],
   "source": [
    "df.shape"
   ]
  },
  {
   "cell_type": "code",
   "execution_count": 6,
   "metadata": {},
   "outputs": [
    {
     "name": "stderr",
     "output_type": "stream",
     "text": [
      "C:\\Users\\ys8mz\\AppData\\Local\\Continuum\\Anaconda3\\lib\\site-packages\\pandas\\core\\indexing.py:543: SettingWithCopyWarning: \n",
      "A value is trying to be set on a copy of a slice from a DataFrame.\n",
      "Try using .loc[row_indexer,col_indexer] = value instead\n",
      "\n",
      "See the caveats in the documentation: http://pandas.pydata.org/pandas-docs/stable/indexing.html#indexing-view-versus-copy\n",
      "  self.obj[item] = s\n"
     ]
    },
    {
     "name": "stdout",
     "output_type": "stream",
     "text": [
      "(181673, 65) (23180, 65)\n"
     ]
    }
   ],
   "source": [
    "train_df = df[df.strm != 2212]\n",
    "test_df = df[df.strm == 2212]\n",
    "original_test_grade = np.array(test_df.grade)\n",
    "train_df.loc[:,'grade'] = train_df.apply(lambda x: 1 if x.loc['grade'] in {'A','B','C'} else 0, axis=1)\n",
    "test_df.loc[:,'grade'] = test_df.apply(lambda x: 1 if x.loc['grade'] in {'A','B','C'} else 0, axis=1)\n",
    "print(train_df.shape,test_df.shape)"
   ]
  },
  {
   "cell_type": "code",
   "execution_count": 7,
   "metadata": {},
   "outputs": [
    {
     "name": "stdout",
     "output_type": "stream",
     "text": [
      "63603 8196\n"
     ]
    }
   ],
   "source": [
    "# Number of unique students in the sample\n",
    "print(len(np.unique(train_df.vccsid)), len(np.unique(test_df.vccsid)))"
   ]
  },
  {
   "cell_type": "code",
   "execution_count": 8,
   "metadata": {},
   "outputs": [
    {
     "name": "stdout",
     "output_type": "stream",
     "text": [
      "1399 966\n"
     ]
    }
   ],
   "source": [
    "print(len(np.unique(train_df.course)), len(np.unique(test_df.course)))"
   ]
  },
  {
   "cell_type": "code",
   "execution_count": 9,
   "metadata": {},
   "outputs": [
    {
     "name": "stdout",
     "output_type": "stream",
     "text": [
      "4457 2615\n"
     ]
    }
   ],
   "source": [
    "# Number of unique college x course observations in the sample\n",
    "print(train_df.loc[:,['college', 'course']].drop_duplicates().shape[0],\n",
    "      test_df.loc[:,['college', 'course']].drop_duplicates().shape[0])"
   ]
  },
  {
   "cell_type": "code",
   "execution_count": 10,
   "metadata": {},
   "outputs": [
    {
     "name": "stdout",
     "output_type": "stream",
     "text": [
      "5013\n"
     ]
    }
   ],
   "source": [
    "# Total number of unique college x course observations in the entire sample (training + test)\n",
    "print(pd.concat([train_df.loc[:,['college', 'course']], test_df.loc[:,['college', 'course']]]).drop_duplicates().shape[0])"
   ]
  },
  {
   "cell_type": "code",
   "execution_count": 11,
   "metadata": {},
   "outputs": [
    {
     "data": {
      "text/plain": [
       "1556"
      ]
     },
     "execution_count": 11,
     "metadata": {},
     "output_type": "execute_result"
    }
   ],
   "source": [
    "len(np.union1d(np.unique(train_df.course), np.unique(test_df.course)))"
   ]
  },
  {
   "cell_type": "code",
   "execution_count": 12,
   "metadata": {
    "collapsed": true
   },
   "outputs": [],
   "source": [
    "# raw_predictors = {\\\n",
    "# 10: 'crnt_enrl_intensity, avg_g_concurrent, has_avg_g_concurrent, past_avg_grade, has_past_avg_grade, avg_g, section_size, age, lvl2_share, online_share',\n",
    "# 20: 'eve_share, summer_ind, full_time, tenure, dev, degree_level_1, college_NVCC, cip_24, online_ind, college_TCC',\n",
    "# 30: 'lvl2_ind, cip_52, degree_level_2, cip_30, cip_11, eve_ind, college_JSRCC, cip_51, college_JTCC, degree_level_3',\n",
    "# 40: 'college_GCC, cip_45, college_TNCC, cip_14, college_LFCC, cip_50, cip_43, college_VWCC, college_CVCC, cip_99',\n",
    "# 50: 'college_NRCC, college_SWVCC, college_PVCC, cip_15, cip_47, college_PHCC, cip_42, college_VHCC, cip_19, college_DCC',\n",
    "# 59: 'college_MECC, college_RCC, college_PDCCC, college_WCC, college_SSVCC, cip_48, college_DSLCC, cip_46, college_ESCC'}"
   ]
  },
  {
   "cell_type": "code",
   "execution_count": 20,
   "metadata": {
    "collapsed": true
   },
   "outputs": [],
   "source": [
    "raw_predictors = {\\\n",
    "5: 'crnt_enrl_intensity, avg_g_concurrent, has_avg_g_concurrent, past_avg_grade, has_past_avg_grade',\n",
    "15: 'avg_g, section_size, age, lvl2_share, online_share, eve_share, summer_ind, full_time, tenure, dev',\n",
    "25: 'degree_level_1, college_NVCC, cip_24, online_ind, college_TCC, lvl2_ind, cip_52, degree_level_2, cip_30, cip_11',\n",
    "35: 'eve_ind, college_JSRCC, cip_51, college_JTCC, degree_level_3, college_GCC, cip_45, college_TNCC, cip_14, college_LFCC',\n",
    "45: 'cip_50, cip_43, college_VWCC, college_CVCC, cip_99, college_NRCC, college_SWVCC, college_PVCC, cip_15, cip_47'}"
   ]
  },
  {
   "cell_type": "code",
   "execution_count": 21,
   "metadata": {
    "collapsed": true
   },
   "outputs": [],
   "source": [
    "clean_predictors = {}\n",
    "for k,v in raw_predictors.items():\n",
    "    clean_predictors[k] = [p.strip() for p in v.split(\",\")]\n",
    "num_of_predictors = sorted(list(clean_predictors.keys()))\n",
    "clean_predictors_2 = {}\n",
    "for k,v in clean_predictors.items():\n",
    "    clean_predictors_2[k] = []\n",
    "    for n in num_of_predictors:\n",
    "        if n <= k:\n",
    "            clean_predictors_2[k] += clean_predictors[n]\n",
    "    assert len(clean_predictors_2[k]) == k"
   ]
  },
  {
   "cell_type": "code",
   "execution_count": 22,
   "metadata": {
    "collapsed": true
   },
   "outputs": [],
   "source": [
    "def create_cv_folds(train, predictors, n_fold = 5):\n",
    "    folds = []\n",
    "    k_fold = StratifiedKFold(n_splits = n_fold, random_state = 12345, shuffle=True)\n",
    "    for train_indices, test_indices in k_fold.split(train, train.grade):\n",
    "        train_part = train.iloc[train_indices,:]\n",
    "        test_part = train.iloc[test_indices,:]\n",
    "        X_1 = train_part.loc[:,predictors]\n",
    "        y_1 = train_part.grade\n",
    "        X_2 = test_part.loc[:,predictors]\n",
    "        y_2 = test_part.grade\n",
    "        folds.append([(X_1.copy(),y_1.copy()),(X_2.copy(),y_2.copy())])\n",
    "    return folds"
   ]
  },
  {
   "cell_type": "code",
   "execution_count": 23,
   "metadata": {
    "collapsed": true
   },
   "outputs": [],
   "source": [
    "def cross_validation_RF(rf_model, folds):\n",
    "    auc_by_fold = []\n",
    "    for f in folds:\n",
    "        X_1 = f[0][0]\n",
    "        y_1 = f[0][1]\n",
    "        X_2 = f[1][0]\n",
    "        y_2 = f[1][1]\n",
    "        rf_model.fit(X_1,y_1)\n",
    "        y_2_pred = rf_model.predict_proba(X_2)[:,1]\n",
    "        auc_by_fold.append(roc_auc_score(y_2,y_2_pred))\n",
    "    return round(np.mean(auc_by_fold),4)  "
   ]
  },
  {
   "cell_type": "code",
   "execution_count": 24,
   "metadata": {
    "collapsed": true
   },
   "outputs": [],
   "source": [
    "def calc_cw(y):\n",
    "    # Calculate the weight of each letter grade to be used in the modeling fitting procedure: the weight is inversely proportional to the square root of the frequency of the letter grade in the training sample\n",
    "    cw = Counter(y)\n",
    "    class_weight = {k:np.sqrt(cw.most_common()[0][-1]/v, dtype=np.float32) for k,v in cw.items()}\n",
    "    return class_weight # The output is a dictionary mapping letter grade to the corresponding weight"
   ]
  },
  {
   "cell_type": "code",
   "execution_count": 25,
   "metadata": {},
   "outputs": [
    {
     "name": "stdout",
     "output_type": "stream",
     "text": [
      "n = 5:\n",
      "\n",
      "max_depth = 2: 0.6678\n",
      "max_depth = 3: 0.676\n",
      "max_depth = 4: 0.6817\n",
      "max_depth = 5: 0.6848\n",
      "max_depth = 6: 0.6875\n",
      "max_depth = 7: 0.6908\n",
      "max_depth = 8: 0.694\n",
      "max_depth = 9: 0.6973\n",
      "max_depth = 10: 0.7005\n",
      "max_depth = 11: 0.7032\n",
      "max_depth = 12: 0.7059\n",
      "max_depth = 13: 0.7084\n",
      "max_depth = 14: 0.7103\n",
      "max_depth = 15: 0.7118\n",
      "max_depth = 16: 0.713\n",
      "max_depth = 17: 0.7135\n",
      "\n",
      "C-statistic = 0.6913\n",
      "\n",
      "\n",
      "\n",
      "\n",
      "n = 15:\n",
      "\n",
      "max_depth = 2: 0.6876\n",
      "max_depth = 3: 0.7044\n",
      "max_depth = 4: 0.7119\n",
      "max_depth = 5: 0.7204\n",
      "max_depth = 6: 0.725\n",
      "max_depth = 7: 0.7292\n",
      "max_depth = 8: 0.7335\n",
      "max_depth = 9: 0.7375\n",
      "max_depth = 10: 0.7411\n",
      "max_depth = 11: 0.7447\n",
      "max_depth = 12: 0.7482\n",
      "max_depth = 13: 0.7518\n",
      "max_depth = 14: 0.7552\n",
      "max_depth = 15: 0.7583\n",
      "max_depth = 16: 0.7608\n",
      "max_depth = 17: 0.7638\n",
      "max_depth = 18: 0.7657\n",
      "max_depth = 19: 0.7681\n",
      "max_depth = 20: 0.7695\n",
      "max_depth = 21: 0.7709\n",
      "max_depth = 22: 0.7721\n",
      "max_depth = 23: 0.7727\n",
      "\n",
      "C-statistic = 0.7212\n",
      "\n",
      "\n",
      "\n",
      "\n",
      "n = 25:\n",
      "\n",
      "max_depth = 2: 0.6885\n",
      "max_depth = 3: 0.7031\n",
      "max_depth = 4: 0.7142\n",
      "max_depth = 5: 0.7219\n",
      "max_depth = 6: 0.7279\n",
      "max_depth = 7: 0.7325\n",
      "max_depth = 8: 0.7369\n",
      "max_depth = 9: 0.7414\n",
      "max_depth = 10: 0.7456\n",
      "max_depth = 11: 0.7496\n",
      "max_depth = 12: 0.7539\n",
      "max_depth = 13: 0.7581\n",
      "max_depth = 14: 0.7615\n",
      "max_depth = 15: 0.7655\n",
      "max_depth = 16: 0.7695\n",
      "max_depth = 17: 0.7724\n",
      "max_depth = 18: 0.7756\n",
      "max_depth = 19: 0.7779\n",
      "max_depth = 20: 0.7801\n",
      "max_depth = 21: 0.7815\n",
      "max_depth = 22: 0.7834\n",
      "max_depth = 23: 0.7843\n",
      "\n",
      "C-statistic = 0.7247\n",
      "\n",
      "\n",
      "\n",
      "\n",
      "n = 35:\n",
      "\n",
      "max_depth = 2: 0.6856\n",
      "max_depth = 3: 0.7021\n",
      "max_depth = 4: 0.712\n",
      "max_depth = 5: 0.7184\n",
      "max_depth = 6: 0.725\n",
      "max_depth = 7: 0.7307\n",
      "max_depth = 8: 0.7354\n",
      "max_depth = 9: 0.7396\n",
      "max_depth = 10: 0.7442\n",
      "max_depth = 11: 0.7483\n",
      "max_depth = 12: 0.7526\n",
      "max_depth = 13: 0.7567\n",
      "max_depth = 14: 0.761\n",
      "max_depth = 15: 0.7652\n",
      "max_depth = 16: 0.7686\n",
      "max_depth = 17: 0.7726\n",
      "max_depth = 18: 0.7756\n",
      "max_depth = 19: 0.7782\n",
      "max_depth = 20: 0.7808\n",
      "max_depth = 21: 0.7831\n",
      "max_depth = 22: 0.7847\n",
      "max_depth = 23: 0.7863\n",
      "max_depth = 24: 0.7875\n",
      "max_depth = 25: 0.7884\n",
      "\n",
      "C-statistic = 0.7267\n",
      "\n",
      "\n",
      "\n",
      "\n",
      "n = 45:\n",
      "\n",
      "max_depth = 2: 0.6872\n",
      "max_depth = 3: 0.7006\n",
      "max_depth = 4: 0.7104\n",
      "max_depth = 5: 0.719\n",
      "max_depth = 6: 0.7249\n",
      "max_depth = 7: 0.7303\n",
      "max_depth = 8: 0.7348\n",
      "max_depth = 9: 0.7392\n",
      "max_depth = 10: 0.7438\n",
      "max_depth = 11: 0.7478\n",
      "max_depth = 12: 0.7523\n",
      "max_depth = 13: 0.7566\n",
      "max_depth = 14: 0.7608\n",
      "max_depth = 15: 0.7646\n",
      "max_depth = 16: 0.7681\n",
      "max_depth = 17: 0.7719\n",
      "max_depth = 18: 0.775\n",
      "max_depth = 19: 0.778\n",
      "max_depth = 20: 0.7808\n",
      "max_depth = 21: 0.783\n",
      "max_depth = 22: 0.7854\n",
      "max_depth = 23: 0.7868\n",
      "max_depth = 24: 0.7885\n",
      "max_depth = 25: 0.7896\n",
      "max_depth = 26: 0.7904\n",
      "\n",
      "C-statistic = 0.7268\n",
      "\n",
      "\n",
      "\n",
      "\n"
     ]
    }
   ],
   "source": [
    "cstat_by_num = []\n",
    "for n in sorted(list(clean_predictors_2.keys())):\n",
    "    print(\"n = {}:\\n\".format(n))\n",
    "    predictors_list = clean_predictors_2[n]\n",
    "    five_folds = create_cv_folds(train_df, predictors_list)\n",
    "    auc_by_d=[]\n",
    "    for d in range(2,36):\n",
    "        rf = RandomForestClassifier(n_estimators=200, criterion=\"entropy\", \n",
    "                                    max_depth=d,\n",
    "                                    random_state=0, n_jobs=20, max_features=\"auto\",\n",
    "                                    class_weight = calc_cw(train_df.grade))\n",
    "        auc = cross_validation_RF(rf, five_folds)\n",
    "        auc_by_d.append(auc)\n",
    "        print(\"max_depth = {0}: {1}\".format(d, auc))\n",
    "        if d > 2:\n",
    "            if auc - auc_by_d[-2] < 0.001:\n",
    "                break\n",
    "            else:\n",
    "                best_d = d\n",
    "        else:\n",
    "            best_d = d\n",
    "    rf = RandomForestClassifier(n_estimators=200, criterion=\"entropy\",\n",
    "                                max_depth=best_d,\n",
    "                                random_state=0, n_jobs=-1, max_features=\"auto\",\n",
    "                                class_weight = calc_cw(train_df.grade))\n",
    "    rf.fit(train_df.loc[:,predictors_list], train_df.grade)\n",
    "    cstat_by_num.append(round(roc_auc_score(test_df.grade, rf.predict_proba(test_df.loc[:,predictors_list])[:,1]),4))\n",
    "    print(\"\\nC-statistic = {}\".format(cstat_by_num[-1]))\n",
    "    print(\"\\n\\n\\n\")"
   ]
  },
  {
   "cell_type": "code",
   "execution_count": 27,
   "metadata": {},
   "outputs": [
    {
     "data": {
      "text/plain": [
       "[0.6913, 0.7212, 0.7247, 0.7267, 0.7268]"
      ]
     },
     "execution_count": 27,
     "metadata": {},
     "output_type": "execute_result"
    }
   ],
   "source": [
    "cstat_by_num"
   ]
  },
  {
   "cell_type": "code",
   "execution_count": null,
   "metadata": {
    "collapsed": true
   },
   "outputs": [],
   "source": []
  }
 ],
 "metadata": {
  "kernelspec": {
   "display_name": "Python 3",
   "language": "python",
   "name": "python3"
  },
  "language_info": {
   "codemirror_mode": {
    "name": "ipython",
    "version": 3
   },
   "file_extension": ".py",
   "mimetype": "text/x-python",
   "name": "python",
   "nbconvert_exporter": "python",
   "pygments_lexer": "ipython3",
   "version": "3.5.3"
  }
 },
 "nbformat": 4,
 "nbformat_minor": 2
}
