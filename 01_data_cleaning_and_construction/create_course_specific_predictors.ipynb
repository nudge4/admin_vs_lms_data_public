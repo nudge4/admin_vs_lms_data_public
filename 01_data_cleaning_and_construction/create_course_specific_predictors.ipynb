{
 "cells": [
  {
   "cell_type": "markdown",
   "metadata": {},
   "source": [
    "This script creates all course-specific predictors for the study sample of all non-first-term observations"
   ]
  },
  {
   "cell_type": "code",
   "execution_count": 1,
   "metadata": {
    "collapsed": true
   },
   "outputs": [],
   "source": [
    "import pickle\n",
    "import pandas as pd\n",
    "import numpy as np"
   ]
  },
  {
   "cell_type": "code",
   "execution_count": 2,
   "metadata": {
    "collapsed": true
   },
   "outputs": [],
   "source": [
    "vccs_prerequisite_dict = pickle.load(open(\"~/Box Sync/GAA Transfer/data/intermediate_files/ys8mz/degree_audit_analyses/vccs_prerequisite_dict_2021.p\", \"rb\"))\n",
    "# vccs_prerequisite_dict['MTH_263'] = [['MTH_167'], ['MTH_161', 'MTH_162'], ['MTH_163', 'MTH_164']]\n",
    "# vccs_prerequisite_dict['EGR_126'] = [['CSC_110']]"
   ]
  },
  {
   "cell_type": "code",
   "execution_count": 3,
   "metadata": {
    "collapsed": true
   },
   "outputs": [],
   "source": [
    "prior_courses = pd.read_stata(\"C:\\\\Users\\\\ys8mz\\\\Box Sync\\\\Clickstream\\\\data\\\\full\\\\prior_courses.dta\")\n",
    "target_courses = pd.read_stata(\"C:\\\\Users\\\\ys8mz\\\\Box Sync\\\\Clickstream\\\\data\\\\full\\\\part1_new.dta\")"
   ]
  },
  {
   "cell_type": "code",
   "execution_count": 4,
   "metadata": {
    "collapsed": true
   },
   "outputs": [],
   "source": [
    "def create_cdict(df):\n",
    "    cdict = {}\n",
    "    for j in range(df.shape[0]):\n",
    "        course = df.course.iloc[j]\n",
    "        credit = df.credit.iloc[j]\n",
    "        est_grade = df.est_grade.iloc[j]\n",
    "        try:\n",
    "            cdict[course].append((credit,est_grade))\n",
    "        except KeyError:\n",
    "            cdict[course] = [(credit,est_grade)]\n",
    "    return cdict.copy()\n",
    "\n",
    "def calc_avg_grade(t):\n",
    "    tot_cred = 0\n",
    "    tot_grade_point = 0\n",
    "    for p in t:\n",
    "        tot_cred += p[0]\n",
    "        tot_grade_point += p[0]*p[1]\n",
    "    return tot_grade_point/tot_cred"
   ]
  },
  {
   "cell_type": "code",
   "execution_count": 5,
   "metadata": {
    "collapsed": true
   },
   "outputs": [],
   "source": [
    "vccsid_sets = []\n",
    "l = list(np.unique(target_courses.vccsid))\n",
    "n = len(l) // 100 + 1\n",
    "for i in range(100):\n",
    "    vccsid_sets.append(l[(n*i):(n*(i+1))])"
   ]
  },
  {
   "cell_type": "code",
   "execution_count": 6,
   "metadata": {},
   "outputs": [
    {
     "name": "stdout",
     "output_type": "stream",
     "text": [
      "0\n",
      "28579 10024\n",
      "\n",
      "1\n",
      "29215 9755\n",
      "\n",
      "2\n",
      "29070 10130\n",
      "\n",
      "3\n",
      "28306 9854\n",
      "\n",
      "4\n",
      "24734 9865\n",
      "\n",
      "5\n",
      "31238 9505\n",
      "\n",
      "6\n",
      "29871 9811\n",
      "\n",
      "7\n",
      "28706 9981\n",
      "\n",
      "8\n",
      "28526 9933\n",
      "\n",
      "9\n",
      "29185 9913\n",
      "\n",
      "10\n",
      "23571 9891\n",
      "\n",
      "11\n",
      "31820 9436\n",
      "\n",
      "12\n",
      "29947 9362\n",
      "\n",
      "13\n",
      "28504 10141\n",
      "\n",
      "14\n",
      "29431 10202\n",
      "\n",
      "15\n",
      "29078 9893\n",
      "\n",
      "16\n",
      "23536 10031\n",
      "\n",
      "17\n",
      "32325 10013\n",
      "\n",
      "18\n",
      "31052 9892\n",
      "\n",
      "19\n",
      "28272 9653\n",
      "\n",
      "20\n",
      "28101 9750\n",
      "\n",
      "21\n",
      "28980 9884\n",
      "\n",
      "22\n",
      "22749 10403\n",
      "\n",
      "23\n",
      "31110 9472\n",
      "\n",
      "24\n",
      "31995 9709\n",
      "\n",
      "25\n",
      "29041 10196\n",
      "\n",
      "26\n",
      "28894 10135\n",
      "\n",
      "27\n",
      "29080 10006\n",
      "\n",
      "28\n",
      "26553 9993\n",
      "\n",
      "29\n",
      "27417 9990\n",
      "\n",
      "30\n",
      "32699 9931\n",
      "\n",
      "31\n",
      "29558 9662\n",
      "\n",
      "32\n",
      "28723 9842\n",
      "\n",
      "33\n",
      "28634 9416\n",
      "\n",
      "34\n",
      "29016 9894\n",
      "\n",
      "35\n",
      "23981 9882\n",
      "\n",
      "36\n",
      "32728 9674\n",
      "\n",
      "37\n",
      "30238 9447\n",
      "\n",
      "38\n",
      "28672 9748\n",
      "\n",
      "39\n",
      "28696 9768\n",
      "\n",
      "40\n",
      "28749 9995\n",
      "\n",
      "41\n",
      "23252 10183\n",
      "\n",
      "42\n",
      "32831 9903\n",
      "\n",
      "43\n",
      "31245 10038\n",
      "\n",
      "44\n",
      "29634 10021\n",
      "\n",
      "45\n",
      "28767 9894\n",
      "\n",
      "46\n",
      "28022 9536\n",
      "\n",
      "47\n",
      "24269 10106\n",
      "\n",
      "48\n",
      "30648 9854\n",
      "\n",
      "49\n",
      "31858 9976\n",
      "\n",
      "50\n",
      "28846 9744\n",
      "\n",
      "51\n",
      "28435 9846\n",
      "\n",
      "52\n",
      "28518 10129\n",
      "\n",
      "53\n",
      "28301 10125\n",
      "\n",
      "54\n",
      "26549 9895\n",
      "\n",
      "55\n",
      "32570 9698\n",
      "\n",
      "56\n",
      "29854 9709\n",
      "\n",
      "57\n",
      "29657 10292\n",
      "\n",
      "58\n",
      "28304 9864\n",
      "\n",
      "59\n",
      "28962 10048\n",
      "\n",
      "60\n",
      "23833 10002\n",
      "\n",
      "61\n",
      "31848 9707\n",
      "\n",
      "62\n",
      "21505 10134\n",
      "\n",
      "63\n",
      "12887 10310\n",
      "\n",
      "64\n",
      "12616 10155\n",
      "\n",
      "65\n",
      "13002 10412\n",
      "\n",
      "66\n",
      "12744 10373\n",
      "\n",
      "67\n",
      "12854 10374\n",
      "\n",
      "68\n",
      "12955 10330\n",
      "\n",
      "69\n",
      "33079 9976\n",
      "\n",
      "70\n",
      "33166 9744\n",
      "\n",
      "71\n",
      "32373 10011\n",
      "\n",
      "72\n",
      "32640 9881\n",
      "\n",
      "73\n",
      "32287 9944\n",
      "\n",
      "74\n",
      "32695 9678\n",
      "\n",
      "75\n",
      "33007 9853\n",
      "\n",
      "76\n",
      "31760 9617\n",
      "\n",
      "77\n",
      "32243 9743\n",
      "\n",
      "78\n",
      "32665 10049\n",
      "\n",
      "79\n",
      "31555 9814\n",
      "\n",
      "80\n",
      "31988 9686\n",
      "\n",
      "81\n",
      "31958 10021\n",
      "\n",
      "82\n",
      "32486 9819\n",
      "\n",
      "83\n",
      "32306 10145\n",
      "\n",
      "84\n",
      "31663 9724\n",
      "\n",
      "85\n",
      "32028 9714\n",
      "\n",
      "86\n",
      "32726 9958\n",
      "\n",
      "87\n",
      "32751 9741\n",
      "\n",
      "88\n",
      "32113 9944\n",
      "\n",
      "89\n",
      "31686 9821\n",
      "\n",
      "90\n",
      "32115 9700\n",
      "\n",
      "91\n",
      "32481 9701\n",
      "\n",
      "92\n",
      "32508 9958\n",
      "\n",
      "93\n",
      "32830 9582\n",
      "\n",
      "94\n",
      "32117 9706\n",
      "\n",
      "95\n",
      "31864 9806\n",
      "\n",
      "96\n",
      "31625 9812\n",
      "\n",
      "97\n",
      "31818 9518\n",
      "\n",
      "98\n",
      "32709 9952\n",
      "\n",
      "99\n",
      "31642 9441\n",
      "\n"
     ]
    }
   ],
   "source": [
    "for i,ll in enumerate(vccsid_sets):\n",
    "    print(i)\n",
    "    ll_series = pd.DataFrame({'vccsid':ll})\n",
    "    prior_part = ll_series.merge(prior_courses, how='inner', on=['vccsid'])\n",
    "    target_part = ll_series.merge(target_courses, how='inner', on=['vccsid'])\n",
    "    print(prior_part.shape[0], target_part.shape[0])\n",
    "    prior_part.to_stata(\"C:\\\\Users\\\\ys8mz\\\\Box Sync\\\\Clickstream\\\\data\\\\full\\\\prior_courses\\\\part{}.dta\".format(i),\n",
    "                        write_index=False)\n",
    "    target_part.to_stata(\"C:\\\\Users\\\\ys8mz\\\\Box Sync\\\\Clickstream\\\\data\\\\full\\\\target_courses\\\\part{}.dta\".format(i),\n",
    "                        write_index=False)\n",
    "    print(\"\")"
   ]
  },
  {
   "cell_type": "code",
   "execution_count": 6,
   "metadata": {
    "collapsed": true
   },
   "outputs": [],
   "source": [
    "# has_prereq_grade = []\n",
    "# prereq_grade = []\n",
    "# for i in range(target_courses.shape[0]):\n",
    "#     if i % 1000 == 0:\n",
    "#         print(i)\n",
    "#     vccsid = target_courses.vccsid.iloc[i]\n",
    "#     strm = target_courses.strm.iloc[i]\n",
    "#     course = target_courses.course.iloc[i]\n",
    "#     prior_sub = prior_courses[prior_courses.vccsid == vccsid]\n",
    "#     prior_sub = prior_sub[prior_sub.strm < strm]\n",
    "#     if prior_sub.shape[0] == 0:\n",
    "#         has_prereq_grade.append(0)\n",
    "#         prereq_grade.append(0)\n",
    "#     else:\n",
    "#         if course not in vccs_prerequisite_dict:\n",
    "#             has_prereq_grade.append(0)\n",
    "#             prereq_grade.append(0)\n",
    "#             continue\n",
    "#         else:\n",
    "#             prerequisite_l = []\n",
    "#             for l in vccs_prerequisite_dict[course]:\n",
    "#                 prerequisite_l.extend(l)\n",
    "#             cdict = create_cdict(prior_sub)\n",
    "#             clist = list(cdict.keys())\n",
    "#             common_l = np.intersect1d(prerequisite_l, clist)\n",
    "#             if len(common_l) == 0:\n",
    "#                 has_prereq_grade.append(0)\n",
    "#                 prereq_grade.append(0)\n",
    "#             else:\n",
    "#                 new_t = []\n",
    "#                 for c in common_l:\n",
    "#                     new_t.extend(cdict[c])\n",
    "#                 has_prereq_grade.append(1)\n",
    "#                 prereq_grade.append(calc_avg_grade(new_t))"
   ]
  },
  {
   "cell_type": "markdown",
   "metadata": {},
   "source": [
    "Run the script <b>\"parallelized_prereq.py\"</b> before the next cell, which uses parallel processing for speeding up."
   ]
  },
  {
   "cell_type": "code",
   "execution_count": 7,
   "metadata": {
    "collapsed": true
   },
   "outputs": [],
   "source": [
    "prereq_r = []\n",
    "for i in range(100):\n",
    "    prereq_r.extend(pickle.load(open(\"C:\\\\Users\\\\ys8mz\\\\Box Sync\\\\Clickstream\\\\data\\\\full\\\\prereq\\\\part{}.p\".format(i), \"rb\")))"
   ]
  },
  {
   "cell_type": "code",
   "execution_count": 8,
   "metadata": {
    "collapsed": true
   },
   "outputs": [],
   "source": [
    "prereq_df = pd.DataFrame(prereq_r, columns = ['vccsid', 'strm', 'college', 'course', 'section', 'has_prereq_grade', 'prereq_grade'])"
   ]
  },
  {
   "cell_type": "code",
   "execution_count": 9,
   "metadata": {},
   "outputs": [
    {
     "name": "stdout",
     "output_type": "stream",
     "text": [
      "988799\n",
      "988799\n"
     ]
    }
   ],
   "source": [
    "print(target_courses.shape[0])\n",
    "target_courses = target_courses.merge(prereq_df, how='inner', on=['vccsid', 'strm', 'college', 'course', 'section'])\n",
    "print(target_courses.shape[0])"
   ]
  },
  {
   "cell_type": "code",
   "execution_count": 10,
   "metadata": {
    "collapsed": true
   },
   "outputs": [],
   "source": [
    "# has_repeat_grade = []\n",
    "# repeat_grade = []\n",
    "# for i in range(target_courses.shape[0]):\n",
    "#     if i % 1000 == 0:\n",
    "#         print(i)\n",
    "#     vccsid = target_courses.vccsid.iloc[i]\n",
    "#     strm = target_courses.strm.iloc[i]\n",
    "#     course = target_courses.course.iloc[i]\n",
    "#     prior_sub = prior_courses[prior_courses.vccsid == vccsid]\n",
    "#     prior_sub = prior_sub[prior_sub.strm < strm]\n",
    "#     if prior_sub.shape[0] == 0:\n",
    "#         has_repeat_grade.append(0)\n",
    "#         repeat_grade.append(0)\n",
    "#     else:\n",
    "#         cdict = create_cdict(prior_sub)\n",
    "#         if course not in cdict:\n",
    "#             has_repeat_grade.append(0)\n",
    "#             repeat_grade.append(0)\n",
    "#         else:\n",
    "#             has_repeat_grade.append(1)\n",
    "#             repeat_grade.append(calc_avg_grade(cdict[course]))"
   ]
  },
  {
   "cell_type": "markdown",
   "metadata": {},
   "source": [
    "Run the script <b>\"parallelized_repeat.py\"</b> before the next cell, which uses parallel processing for speeding up."
   ]
  },
  {
   "cell_type": "code",
   "execution_count": 11,
   "metadata": {
    "collapsed": true
   },
   "outputs": [],
   "source": [
    "repeat_r = []\n",
    "for i in range(100):\n",
    "    repeat_r.extend(pickle.load(open(\"C:\\\\Users\\\\ys8mz\\\\Box Sync\\\\Clickstream\\\\data\\\\full\\\\repeat\\\\part{}.p\".format(i), \"rb\")))"
   ]
  },
  {
   "cell_type": "code",
   "execution_count": 12,
   "metadata": {
    "collapsed": true
   },
   "outputs": [],
   "source": [
    "repeat_df = pd.DataFrame(repeat_r, columns = ['vccsid', 'strm', 'college', 'course', 'section', 'has_repeat_grade', 'repeat_grade'])"
   ]
  },
  {
   "cell_type": "code",
   "execution_count": 13,
   "metadata": {},
   "outputs": [
    {
     "name": "stdout",
     "output_type": "stream",
     "text": [
      "988799\n",
      "988799\n"
     ]
    }
   ],
   "source": [
    "print(target_courses.shape[0])\n",
    "target_courses = target_courses.merge(repeat_df, how='inner', on=['vccsid', 'strm', 'college', 'course', 'section'])\n",
    "print(target_courses.shape[0])"
   ]
  },
  {
   "cell_type": "code",
   "execution_count": 14,
   "metadata": {
    "collapsed": true
   },
   "outputs": [],
   "source": [
    "# target_courses.loc[:,'has_repeat_grade'] = has_repeat_grade\n",
    "# target_courses.loc[:,'repeat_grade'] = repeat_grade\n",
    "# target_courses.loc[:,'has_prereq_grade'] = has_prereq_grade\n",
    "# target_courses.loc[:,'prereq_grade'] = prereq_grade"
   ]
  },
  {
   "cell_type": "code",
   "execution_count": 15,
   "metadata": {
    "collapsed": true
   },
   "outputs": [],
   "source": [
    "avg_grades = pd.read_stata(\"C:\\\\Users\\\\ys8mz\\\\Box Sync\\\\Clickstream\\\\data\\\\full\\\\avg_grades.dta\")\n",
    "avg_dict = {}\n",
    "avg_dict_2 = {}\n",
    "for j in range(avg_grades.shape[0]):\n",
    "    course = avg_grades.course.iloc[j]\n",
    "    strm = avg_grades.strm.iloc[j]\n",
    "    college = avg_grades.college.iloc[j]\n",
    "    avg_dict[(course,strm,college)] = avg_grades.avg_grade.iloc[j]\n",
    "    avg_dict_2[(strm,college)] = avg_grades.avg_grade_2.iloc[j]"
   ]
  },
  {
   "cell_type": "code",
   "execution_count": 16,
   "metadata": {
    "collapsed": true
   },
   "outputs": [],
   "source": [
    "avg_g = []\n",
    "for i in range(target_courses.shape[0]):\n",
    "    course = target_courses.course.iloc[i]\n",
    "    strm = target_courses.strm.iloc[i]\n",
    "    college = target_courses.college.iloc[i]\n",
    "    try:\n",
    "        avg_g.append(avg_dict[(course,strm,college)])\n",
    "    except KeyError:\n",
    "        avg_g.append(avg_dict_2[(strm,college)])\n",
    "target_courses.loc[:,'avg_g'] = avg_g"
   ]
  },
  {
   "cell_type": "code",
   "execution_count": 17,
   "metadata": {
    "collapsed": true
   },
   "outputs": [],
   "source": [
    "target_courses.loc[:,'summer_ind'] = target_courses.strm.apply(lambda x: int(x % 10 == 3))"
   ]
  },
  {
   "cell_type": "code",
   "execution_count": 18,
   "metadata": {},
   "outputs": [
    {
     "data": {
      "text/plain": [
       "array(['vccsid', 'college', 'section', 'strm', 'section_size', 'eve_ind',\n",
       "       'online_ind', 'lvl2_ind', 'course', 'has_prereq_grade',\n",
       "       'prereq_grade', 'has_repeat_grade', 'repeat_grade', 'avg_g',\n",
       "       'summer_ind'], dtype=object)"
      ]
     },
     "execution_count": 18,
     "metadata": {},
     "output_type": "execute_result"
    }
   ],
   "source": [
    "target_courses.columns.values"
   ]
  },
  {
   "cell_type": "code",
   "execution_count": 19,
   "metadata": {},
   "outputs": [
    {
     "name": "stdout",
     "output_type": "stream",
     "text": [
      "(988799, 15)\n"
     ]
    }
   ],
   "source": [
    "target_courses = target_courses.loc[:,['vccsid','strm','college','course','section',\n",
    "                                       'summer_ind', 'section_size', 'eve_ind', 'online_ind', 'lvl2_ind',\n",
    "                                       'has_repeat_grade', 'repeat_grade', 'has_prereq_grade', 'prereq_grade', \n",
    "                                       'avg_g']]\n",
    "print(target_courses.shape)"
   ]
  },
  {
   "cell_type": "code",
   "execution_count": 20,
   "metadata": {
    "collapsed": true
   },
   "outputs": [],
   "source": [
    "target_courses.to_csv(\"C:\\\\Users\\\\ys8mz\\\\Box Sync\\\\Clickstream\\\\data\\\\full\\\\course_specific_predictors.csv\", index=False)"
   ]
  },
  {
   "cell_type": "code",
   "execution_count": null,
   "metadata": {
    "collapsed": true
   },
   "outputs": [],
   "source": []
  }
 ],
 "metadata": {
  "kernelspec": {
   "display_name": "Python 3",
   "language": "python",
   "name": "python3"
  },
  "language_info": {
   "codemirror_mode": {
    "name": "ipython",
    "version": 3
   },
   "file_extension": ".py",
   "mimetype": "text/x-python",
   "name": "python",
   "nbconvert_exporter": "python",
   "pygments_lexer": "ipython3",
   "version": "3.5.3"
  }
 },
 "nbformat": 4,
 "nbformat_minor": 2
}
