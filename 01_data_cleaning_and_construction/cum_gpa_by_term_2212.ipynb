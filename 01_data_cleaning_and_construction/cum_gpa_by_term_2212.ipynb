{
 "cells": [
  {
   "cell_type": "markdown",
   "metadata": {},
   "source": [
    "<b>Name:</b> cum_gpa_by_term_2212.ipynb <br>\n",
    "<b>Author:</b> Yifeng Song <br>\n",
    "<b>Purpose:</b> The raw VCCS data report the student GPA by student x college x term. This script will calculate the aggregated cumulative GPA value for the most recent term (Spring 2021), which will be used in the subsequent steps of constructing the predictors of the training/validation sample for the course performance prediction models."
   ]
  },
  {
   "cell_type": "code",
   "execution_count": 1,
   "metadata": {
    "collapsed": true
   },
   "outputs": [],
   "source": [
    "import os\n",
    "import getpass\n",
    "import pandas as pd\n",
    "import numpy as np\n",
    "import gc\n",
    "import subprocess\n",
    "\n",
    "home_dir = os.path.expanduser('~')\n",
    "fpath = os.path.join(home_dir, 'Downloads')"
   ]
  },
  {
   "cell_type": "code",
   "execution_count": 2,
   "metadata": {},
   "outputs": [
    {
     "name": "stdout",
     "output_type": "stream",
     "text": [
      "[2212]\n"
     ]
    }
   ],
   "source": [
    "# Load the merged VCCS GPA data and keep the useful columns\n",
    "df = pd.read_stata(os.path.join(fpath, \"gpa2212_deid.dta\"))\n",
    "df = df.loc[:,['vccsid', 'institution', 'collnum', 'strm', 'cum_gpa', 'tot_taken_prgrss']]\n",
    "all_terms = sorted(np.unique(df.strm))\n",
    "print(all_terms)"
   ]
  },
  {
   "cell_type": "code",
   "execution_count": 5,
   "metadata": {},
   "outputs": [
    {
     "data": {
      "text/plain": [
       "(213679, 6)"
      ]
     },
     "execution_count": 5,
     "metadata": {},
     "output_type": "execute_result"
    }
   ],
   "source": [
    "vccsid_list = pd.read_stata(os.path.join(home_dir, \"Box Sync/Clickstream/data/full/all_vccsid.dta\"))\n",
    "df = df.merge(vccsid_list, how='inner', on=['vccsid'])\n",
    "df.shape"
   ]
  },
  {
   "cell_type": "code",
   "execution_count": 6,
   "metadata": {},
   "outputs": [
    {
     "name": "stdout",
     "output_type": "stream",
     "text": [
      "0\n",
      "100000\n",
      "200000\n"
     ]
    },
    {
     "data": {
      "text/plain": [
       "7"
      ]
     },
     "execution_count": 6,
     "metadata": {},
     "output_type": "execute_result"
    }
   ],
   "source": [
    "# Construct the nested dictionary 'cum_gpa_dict', with the primary key being the student x collegename,\n",
    "# and the secondary key being the term number. And the values of inner dictionaries correspond to \n",
    "# the cumulative credits earned and the cumulative GPA at each college the student attended\n",
    "cum_gpa_dict = {}\n",
    "for i in range(df.shape[0]):\n",
    "    if i % 1e5 == 0: # keep running garbage collection in every 100000 observations processed to prevent memory leak\n",
    "        print(i)\n",
    "        gc.collect()\n",
    "    stuid = df.vccsid.iloc[i]\n",
    "    college = df.institution.iloc[i]\n",
    "    stuid_college = stuid + \"-\" + college\n",
    "    term = df.strm.iloc[i]\n",
    "    credits_gpa_pair = (df.tot_taken_prgrss.iloc[i], df.cum_gpa.iloc[i])\n",
    "    if stuid_college not in cum_gpa_dict:\n",
    "        cum_gpa_dict[stuid_college] = {term:credits_gpa_pair}\n",
    "    else:\n",
    "        cum_gpa_dict[stuid_college][term] = credits_gpa_pair\n",
    "del df\n",
    "gc.collect()"
   ]
  },
  {
   "cell_type": "code",
   "execution_count": 7,
   "metadata": {},
   "outputs": [
    {
     "name": "stdout",
     "output_type": "stream",
     "text": [
      "0\n",
      "100000\n",
      "200000\n"
     ]
    },
    {
     "data": {
      "text/plain": [
       "0"
      ]
     },
     "execution_count": 7,
     "metadata": {},
     "output_type": "execute_result"
    }
   ],
   "source": [
    "# If a student didn't attend the college during the first semester (according to the merged data),\n",
    "# the values corresponding to the terms prior to the student's actual first term should be (0,0),\n",
    "# meaning 0 credits attempted and 0 GPA; a new nested dictionary \"cum_gpa_dict_2\" will be created;\n",
    "# If a student stopped out during a certain semester, the cumulative credits and GPA will be the\n",
    "# values of the most recent prior semester -- this will make it easier to calculate aggregated cumulative GPA\n",
    "first_term = all_terms[0]\n",
    "cum_gpa_dict_2 = {}\n",
    "i = 0\n",
    "for k,v in cum_gpa_dict.items():\n",
    "    if i % 1e5 == 0:\n",
    "        print(i)\n",
    "        gc.collect()\n",
    "    new_v = v.copy()\n",
    "    if first_term not in v:\n",
    "        new_v[first_term] = (0,0)\n",
    "    for indx,t in enumerate(all_terms[:-1]):\n",
    "        crnt_term = all_terms[indx+1]\n",
    "        if crnt_term not in new_v:\n",
    "            new_v[crnt_term] = new_v[t]\n",
    "    cum_gpa_dict_2[k] = new_v.copy()\n",
    "    i += 1\n",
    "del cum_gpa_dict\n",
    "gc.collect()"
   ]
  },
  {
   "cell_type": "code",
   "execution_count": 8,
   "metadata": {},
   "outputs": [
    {
     "name": "stdout",
     "output_type": "stream",
     "text": [
      "0\n",
      "100000\n",
      "200000\n"
     ]
    },
    {
     "data": {
      "text/plain": [
       "0"
      ]
     },
     "execution_count": 8,
     "metadata": {},
     "output_type": "execute_result"
    }
   ],
   "source": [
    "# Create a new nested dictionary \"cum_gpa_dict_3\", which has student_id as the primary key,\n",
    "# and term number as the secondary, and the values in the inner dictionaries correspond to\n",
    "# the list of all pairs of cumulative credits earned & cumulative GPA of the student during\n",
    "# the term, with each pair corresponding to each college the student attended during that term\n",
    "cum_gpa_dict_3 = {}\n",
    "i = 0\n",
    "for k,v in cum_gpa_dict_2.items():\n",
    "    if i % 1e5 == 0:\n",
    "        print(i)\n",
    "        gc.collect()\n",
    "    stuid = k.split(\"-\")[0]\n",
    "    if stuid not in cum_gpa_dict_3:\n",
    "        cum_gpa_dict_3[stuid] = {k2:[v2] for k2,v2 in v.items()}\n",
    "    else:\n",
    "        for k2,v2 in v.items():\n",
    "            cum_gpa_dict_3[stuid][k2].append(v2)\n",
    "    i += 1\n",
    "del cum_gpa_dict_2\n",
    "gc.collect()"
   ]
  },
  {
   "cell_type": "code",
   "execution_count": 9,
   "metadata": {
    "collapsed": true
   },
   "outputs": [],
   "source": [
    "def calc_agg_cum_gpa(l):\n",
    "    # This function calculates the aggregated cumulative GPA of the student during each term:\n",
    "    # If the student attended more than one institution, the aggregated cumulative GPA will be\n",
    "    # the weighted average of the cumulative GPA of all colleges student has ever attended so far,\n",
    "    # even if the student is only actively enrolled in one college during a certain term\n",
    "    a = np.array(l)\n",
    "    if a.shape[0] == 1:\n",
    "        if a[0,0] > 0:\n",
    "            r = a[0,1]\n",
    "        else:\n",
    "            r = np.nan\n",
    "    else:\n",
    "        a = np.array(l)\n",
    "        a[:,1] = a[:,0]*a[:,1]\n",
    "        b = np.sum(a,axis=0)\n",
    "        if b[0] == 0:\n",
    "            r = np.nan\n",
    "        else:\n",
    "            r = b[1]/b[0]\n",
    "    if pd.isnull(r):\n",
    "        return r\n",
    "    else:\n",
    "        return round(r,3)"
   ]
  },
  {
   "cell_type": "code",
   "execution_count": 10,
   "metadata": {
    "scrolled": true
   },
   "outputs": [
    {
     "name": "stdout",
     "output_type": "stream",
     "text": [
      "0\n",
      "100000\n"
     ]
    },
    {
     "data": {
      "text/plain": [
       "0"
      ]
     },
     "execution_count": 10,
     "metadata": {},
     "output_type": "execute_result"
    }
   ],
   "source": [
    "# create the nested dictionary \"agg_cum_gpa\", which has student_id as the primary key and term number as the secondary key,\n",
    "# and there is one aggregated GPA value corresponding to each student x term\n",
    "agg_cum_gpa = {}\n",
    "i = 0\n",
    "for k,v in cum_gpa_dict_3.items():\n",
    "    if i % 1e5 == 0:\n",
    "        print(i)\n",
    "        gc.collect()\n",
    "    agg_cum_gpa[k] = {k2:calc_agg_cum_gpa(v2) for k2,v2 in v.items()}\n",
    "    i += 1\n",
    "del cum_gpa_dict_3\n",
    "gc.collect()"
   ]
  },
  {
   "cell_type": "code",
   "execution_count": 11,
   "metadata": {
    "collapsed": true
   },
   "outputs": [],
   "source": [
    "# Final cleanup and transform the aggregated cumulative GPA data from dictionary format into tabular format,\n",
    "# save the tabular data to file in the .dta file format\n",
    "final_df = pd.DataFrame.from_dict(agg_cum_gpa, orient=\"index\")\n",
    "final_df = final_df.loc[:,sorted(final_df.columns.values)] # The column names are order by term\n",
    "gc.collect()\n",
    "final_df.columns = [\"term_\" + str(cn) for cn in final_df.columns.values] # Add prefix \"term_\" to column names\n",
    "final_df.reset_index(inplace=True)\n",
    "final_df.rename(columns = {'index':'vccsid'}, inplace=True)\n",
    "final_df.to_stata(\"C:\\\\Users\\\\ys8mz\\\\Box Sync\\\\Clickstream\\\\data\\\\full\\\\updated\\\\agg_cum_gpa_2212.dta\", write_index=False)"
   ]
  },
  {
   "cell_type": "code",
   "execution_count": null,
   "metadata": {
    "collapsed": true
   },
   "outputs": [],
   "source": []
  }
 ],
 "metadata": {
  "kernelspec": {
   "display_name": "Python 3",
   "language": "python",
   "name": "python3"
  },
  "language_info": {
   "codemirror_mode": {
    "name": "ipython",
    "version": 3
   },
   "file_extension": ".py",
   "mimetype": "text/x-python",
   "name": "python",
   "nbconvert_exporter": "python",
   "pygments_lexer": "ipython3",
   "version": "3.5.3"
  }
 },
 "nbformat": 4,
 "nbformat_minor": 2
}
