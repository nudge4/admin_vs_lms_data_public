{
 "cells": [
  {
   "cell_type": "markdown",
   "metadata": {},
   "source": [
    "Generate the summary statistics of admin data for the entire VCCS population."
   ]
  },
  {
   "cell_type": "code",
   "execution_count": 4,
   "metadata": {
    "collapsed": true
   },
   "outputs": [],
   "source": [
    "import pandas as pd\n",
    "import numpy as np"
   ]
  },
  {
   "cell_type": "code",
   "execution_count": 8,
   "metadata": {
    "collapsed": true
   },
   "outputs": [],
   "source": [
    "df = pd.read_stata(\"~\\\\Box Sync\\\\Clickstream\\\\data\\\\full\\\\population.dta\").loc[:,['vccsid','strm', 'college', 'course', 'section', 'first_ind']]"
   ]
  },
  {
   "cell_type": "code",
   "execution_count": 6,
   "metadata": {
    "collapsed": true
   },
   "outputs": [],
   "source": [
    "subj_dict = {'BUS': ['ACC', 'BUS', 'MKT', 'HRI', 'FIN', 'REA', 'ACQ', 'CON', 'ISR'],\n",
    "             'ART': ['ART', 'DAN', 'MUS', 'HRT', 'CRF', 'PHT', 'IDS', \"DEC\"],\n",
    "             'SCI': ['BIO', 'GOL', 'PHY', 'NAS', 'CHM', 'SCT'],\n",
    "             'EGR': ['EGR', 'CSC', 'ITD', 'ITE', 'ITN', 'ITP',\n",
    "                     'HIM', 'ENE', 'GIS', 'ENV', 'HIT', 'ARC',\n",
    "                     'ETR', 'AST', 'IND', 'IST', 'DRF', 'CAD', \n",
    "                     'TEL', 'MEC', 'AMT', 'ARO', 'CIV', \"INS\", 'NUC', 'UMS', \"AVI\", \"ESR\", \"NAN\"],\n",
    "             'MTH': ['MTE', 'MTH', 'MTT', 'MCR', 'MDE'],\n",
    "             'SOC': ['EDU', 'SOC', 'ECO', 'GEO', 'HIS', 'PSY',\n",
    "                     'PLS', 'ADJ', 'LGL', 'CHD', 'SSC', \"PBS\", \"EIP\"],\n",
    "             'MED': ['EMS', 'NUR', 'HLT', 'PED', 'DMS', 'RAD', \n",
    "                     'EMT', 'PNE', 'DNA', 'SUR', 'NSG', 'HCT',\n",
    "                     'DNH', 'OCT', 'CSP', 'DIT', 'PSG', 'PNG',\n",
    "                     'PTH', 'MEN', 'MDL', 'RTH', \"MDA\", \"OPT\", \"ROC\", \"DNL\", \"OMP\", \"PBH\"],\n",
    "             'HUM': ['HUM', 'CST', 'PHI', 'REL', 'ENG', 'ENF',\n",
    "                     'EDE', 'HMS', 'SDV', 'SPD', 'STD', 'SCM', 'MET'],\n",
    "             'FLA': ['ASL', 'ARA', 'FRE', 'GER', 'JPN', 'KOR',\n",
    "                     'ITA', 'LAT', 'SPA', 'CHI', 'ESL', 'RUS', 'INT', 'GRE', 'POR', 'VTN'],\n",
    "             'OCC': ['FST', 'AGR', 'AIR', 'ARO', 'AUT', 'FOR',\n",
    "                     'FIR', 'WEL', 'VET', 'EQU', 'LBR', 'BCS',\n",
    "                     'BLD', 'BSK', 'COS', 'VEN', 'TRK', 'TRV',\n",
    "                     'PNT', 'MSC', 'MAR', 'MAC', 'ELE', 'RVH',\n",
    "                     'RPK', 'SAF', 'AUB', \"DSL\", 'FNS', \"MRT\",\n",
    "                     'MTS', 'RPK', \"FUR\", \"GWR\", \"MIN\", \"PPT\",\n",
    "                     'HVE']}\n",
    "subj_inverse_dict = {e:k for k,v in subj_dict.items() for e in v}"
   ]
  },
  {
   "cell_type": "code",
   "execution_count": 11,
   "metadata": {
    "collapsed": true
   },
   "outputs": [],
   "source": [
    "course1 = df[np.array(df.strm < 2212) & np.array(df.first_ind == 0)].loc[:,['course']].drop_duplicates()\n",
    "course1.loc[:,'lvl2_ind'] = course1.course.apply(lambda x: x.split(\"_\")[-1][0] == \"2\").astype(int)\n",
    "course1.loc[:,'subject'] = course1.course.apply(lambda x: subj_inverse_dict[x.split(\"_\")[0]])\n",
    "course2 = df[np.array(df.strm < 2212) & np.array(df.first_ind == 1)].loc[:,['course']].drop_duplicates()\n",
    "course2.loc[:,'lvl2_ind'] = course2.course.apply(lambda x: x.split(\"_\")[-1][0] == \"2\").astype(int)\n",
    "course2.loc[:,'subject'] = course2.course.apply(lambda x: subj_inverse_dict[x.split(\"_\")[0]])\n",
    "course3 = df[np.array(df.strm == 2212) & np.array(df.first_ind == 0)].loc[:,['course']].drop_duplicates()\n",
    "course3.loc[:,'lvl2_ind'] = course3.course.apply(lambda x: x.split(\"_\")[-1][0] == \"2\").astype(int)\n",
    "course3.loc[:,'subject'] = course3.course.apply(lambda x: subj_inverse_dict[x.split(\"_\")[0]])\n",
    "course4 = df[np.array(df.strm == 2212) & np.array(df.first_ind == 1)].loc[:,['course']].drop_duplicates()\n",
    "course4.loc[:,'lvl2_ind'] = course4.course.apply(lambda x: x.split(\"_\")[-1][0] == \"2\").astype(int)\n",
    "course4.loc[:,'subject'] = course4.course.apply(lambda x: subj_inverse_dict[x.split(\"_\")[0]])\n",
    "course = pd.concat([course1, course2, course3, course4]).drop_duplicates()"
   ]
  },
  {
   "cell_type": "code",
   "execution_count": 12,
   "metadata": {},
   "outputs": [
    {
     "data": {
      "text/plain": [
       "(0.4989495798319328, 0.4839886501824078, 0.392578125, 0.5, 0.397497593840231)"
      ]
     },
     "execution_count": 12,
     "metadata": {},
     "output_type": "execute_result"
    }
   ],
   "source": [
    "np.mean(course.lvl2_ind), np.mean(course1.lvl2_ind), np.mean(course2.lvl2_ind),\\\n",
    "np.mean(course3.lvl2_ind), np.mean(course4.lvl2_ind)"
   ]
  },
  {
   "cell_type": "code",
   "execution_count": 13,
   "metadata": {},
   "outputs": [
    {
     "data": {
      "text/plain": [
       "{'ART': 0.09523809523809523,\n",
       " 'BUS': 0.07072829131652661,\n",
       " 'EGR': 0.21638655462184875,\n",
       " 'FLA': 0.029061624649859945,\n",
       " 'HUM': 0.06827731092436974,\n",
       " 'MED': 0.19012605042016806,\n",
       " 'MTH': 0.01015406162464986,\n",
       " 'OCC': 0.19012605042016806,\n",
       " 'SCI': 0.0350140056022409,\n",
       " 'SOC': 0.09488795518207283}"
      ]
     },
     "execution_count": 13,
     "metadata": {},
     "output_type": "execute_result"
    }
   ],
   "source": [
    "from collections import Counter\n",
    "{k:v/course.shape[0] for k,v in Counter(course.subject).items()}"
   ]
  },
  {
   "cell_type": "code",
   "execution_count": 14,
   "metadata": {},
   "outputs": [
    {
     "data": {
      "text/plain": [
       "{'ART': 0.09850020267531415,\n",
       " 'BUS': 0.0713417105796514,\n",
       " 'EGR': 0.20794487231455208,\n",
       " 'FLA': 0.030401297122010538,\n",
       " 'HUM': 0.07053100932306446,\n",
       " 'MED': 0.19294689906769355,\n",
       " 'MTH': 0.011755168220510741,\n",
       " 'OCC': 0.18119173084718282,\n",
       " 'SCI': 0.03607620591811917,\n",
       " 'SOC': 0.09931090393190109}"
      ]
     },
     "execution_count": 14,
     "metadata": {},
     "output_type": "execute_result"
    }
   ],
   "source": [
    "{k:v/course1.shape[0] for k,v in Counter(course1.subject).items()}"
   ]
  },
  {
   "cell_type": "code",
   "execution_count": 15,
   "metadata": {},
   "outputs": [
    {
     "data": {
      "text/plain": [
       "{'ART': 0.09859154929577464,\n",
       " 'BUS': 0.07793427230046948,\n",
       " 'EGR': 0.22347417840375586,\n",
       " 'FLA': 0.03192488262910798,\n",
       " 'HUM': 0.07417840375586854,\n",
       " 'MED': 0.16854460093896714,\n",
       " 'MTH': 0.010328638497652582,\n",
       " 'OCC': 0.17652582159624414,\n",
       " 'SCI': 0.036619718309859155,\n",
       " 'SOC': 0.10187793427230046}"
      ]
     },
     "execution_count": 15,
     "metadata": {},
     "output_type": "execute_result"
    }
   ],
   "source": [
    "{k:v/course3.shape[0] for k,v in Counter(course3.subject).items()}"
   ]
  },
  {
   "cell_type": "code",
   "execution_count": 16,
   "metadata": {},
   "outputs": [
    {
     "data": {
      "text/plain": [
       "{'ART': 0.10221354166666667,\n",
       " 'BUS': 0.08268229166666667,\n",
       " 'EGR': 0.20572916666666666,\n",
       " 'FLA': 0.03515625,\n",
       " 'HUM': 0.087890625,\n",
       " 'MED': 0.146484375,\n",
       " 'MTH': 0.016276041666666668,\n",
       " 'OCC': 0.15559895833333334,\n",
       " 'SCI': 0.041666666666666664,\n",
       " 'SOC': 0.12630208333333334}"
      ]
     },
     "execution_count": 16,
     "metadata": {},
     "output_type": "execute_result"
    }
   ],
   "source": [
    "{k:v/course2.shape[0] for k,v in Counter(course2.subject).items()}"
   ]
  },
  {
   "cell_type": "code",
   "execution_count": 17,
   "metadata": {},
   "outputs": [
    {
     "data": {
      "text/plain": [
       "{'ART': 0.07892204042348412,\n",
       " 'BUS': 0.08373435996150144,\n",
       " 'EGR': 0.23965351299326276,\n",
       " 'FLA': 0.03657362848893166,\n",
       " 'HUM': 0.09143407122232916,\n",
       " 'MED': 0.11838306063522618,\n",
       " 'MTH': 0.019249278152069296,\n",
       " 'OCC': 0.14436958614051973,\n",
       " 'SCI': 0.05101058710298364,\n",
       " 'SOC': 0.136669874879692}"
      ]
     },
     "execution_count": 17,
     "metadata": {},
     "output_type": "execute_result"
    }
   ],
   "source": [
    "{k:v/course4.shape[0] for k,v in Counter(course4.subject).items()}"
   ]
  },
  {
   "cell_type": "code",
   "execution_count": 18,
   "metadata": {
    "collapsed": true
   },
   "outputs": [],
   "source": [
    "section_size1 = df[df.first_ind == 0]\n",
    "section_size2 = df[df.first_ind == 1]"
   ]
  },
  {
   "cell_type": "code",
   "execution_count": 19,
   "metadata": {},
   "outputs": [
    {
     "name": "stderr",
     "output_type": "stream",
     "text": [
      "C:\\Users\\ys8mz\\AppData\\Local\\Continuum\\Anaconda3\\lib\\site-packages\\pandas\\core\\indexing.py:362: SettingWithCopyWarning: \n",
      "A value is trying to be set on a copy of a slice from a DataFrame.\n",
      "Try using .loc[row_indexer,col_indexer] = value instead\n",
      "\n",
      "See the caveats in the documentation: http://pandas.pydata.org/pandas-docs/stable/indexing.html#indexing-view-versus-copy\n",
      "  self.obj[key] = _infer_fill_value(value)\n",
      "C:\\Users\\ys8mz\\AppData\\Local\\Continuum\\Anaconda3\\lib\\site-packages\\pandas\\core\\indexing.py:543: SettingWithCopyWarning: \n",
      "A value is trying to be set on a copy of a slice from a DataFrame.\n",
      "Try using .loc[row_indexer,col_indexer] = value instead\n",
      "\n",
      "See the caveats in the documentation: http://pandas.pydata.org/pandas-docs/stable/indexing.html#indexing-view-versus-copy\n",
      "  self.obj[item] = s\n"
     ]
    }
   ],
   "source": [
    "section_size1.loc[:,'valid'] = (section_size1.strm == 2212).astype(int)\n",
    "section_size2.loc[:,'valid'] = (section_size2.strm == 2212).astype(int)\n",
    "# section_size1 = section_size1.drop(['vccsid'], axis=1).drop_duplicates()\n",
    "# section_size2 = section_size2.drop(['vccsid'], axis=1).drop_duplicates()"
   ]
  },
  {
   "cell_type": "code",
   "execution_count": 20,
   "metadata": {},
   "outputs": [
    {
     "data": {
      "text/plain": [
       "16.332777069920056"
      ]
     },
     "execution_count": 20,
     "metadata": {},
     "output_type": "execute_result"
    }
   ],
   "source": [
    "section_sizes = pd.concat([section_size1,section_size2]).groupby(['strm', 'college', 'course', 'section']).agg({'vccsid':'count'}).reset_index()\n",
    "section_sizes.vccsid.mean()"
   ]
  },
  {
   "cell_type": "code",
   "execution_count": 21,
   "metadata": {},
   "outputs": [
    {
     "data": {
      "text/plain": [
       "(16.845879525544614, 15.540779129518205)"
      ]
     },
     "execution_count": 21,
     "metadata": {},
     "output_type": "execute_result"
    }
   ],
   "source": [
    "ss1 = section_size1.drop(['vccsid'], axis=1).drop_duplicates().merge(section_sizes, on=['strm', 'college', 'course', 'section'], how='inner')\n",
    "ss1[ss1.valid == 0].vccsid.mean(), ss1[ss1.valid == 1].vccsid.mean()"
   ]
  },
  {
   "cell_type": "code",
   "execution_count": 22,
   "metadata": {},
   "outputs": [
    {
     "data": {
      "text/plain": [
       "(19.731555173155517, 19.90495385594569)"
      ]
     },
     "execution_count": 22,
     "metadata": {},
     "output_type": "execute_result"
    }
   ],
   "source": [
    "ss2 = section_size2.drop(['vccsid'], axis=1).drop_duplicates().merge(section_sizes, on=['strm', 'college', 'course', 'section'], how='inner')\n",
    "ss2[ss2.valid == 0].vccsid.mean(), ss2[ss2.valid == 1].vccsid.mean()"
   ]
  },
  {
   "cell_type": "code",
   "execution_count": 23,
   "metadata": {},
   "outputs": [
    {
     "data": {
      "text/plain": [
       "169.9724243135414"
      ]
     },
     "execution_count": 23,
     "metadata": {},
     "output_type": "execute_result"
    }
   ],
   "source": [
    "course_sizes = pd.concat([section_size1, section_size2]).loc[:,['strm', 'course', 'vccsid', 'valid']].groupby(['strm', 'course']).agg({'vccsid':'count'}).reset_index()\n",
    "course_sizes.vccsid.mean()"
   ]
  },
  {
   "cell_type": "code",
   "execution_count": 24,
   "metadata": {},
   "outputs": [
    {
     "data": {
      "text/plain": [
       "(172.2523614609572, 166.27323943661972)"
      ]
     },
     "execution_count": 24,
     "metadata": {},
     "output_type": "execute_result"
    }
   ],
   "source": [
    "ss3 = section_size1.loc[:,['strm', 'course', 'valid']].merge(course_sizes, on=['strm', 'course']).drop_duplicates()\n",
    "ss3[ss3.valid == 0].vccsid.mean(), ss3[ss3.valid == 1].vccsid.mean()"
   ]
  },
  {
   "cell_type": "code",
   "execution_count": 25,
   "metadata": {},
   "outputs": [
    {
     "data": {
      "text/plain": [
       "(289.5400168491997, 306.29451395572664)"
      ]
     },
     "execution_count": 25,
     "metadata": {},
     "output_type": "execute_result"
    }
   ],
   "source": [
    "ss4 = section_size2.loc[:,['strm', 'course', 'valid']].merge(course_sizes, on=['strm', 'course']).drop_duplicates()\n",
    "ss4[ss4.valid == 0].vccsid.mean(), ss4[ss4.valid == 1].vccsid.mean()"
   ]
  },
  {
   "cell_type": "code",
   "execution_count": 106,
   "metadata": {},
   "outputs": [
    {
     "data": {
      "text/plain": [
       "Counter({0: 33942, 1: 8284})"
      ]
     },
     "execution_count": 106,
     "metadata": {},
     "output_type": "execute_result"
    }
   ],
   "source": [
    "Counter(section_size1.drop(['vccsid','grade','online_ind'], axis=1).drop_duplicates().valid)"
   ]
  },
  {
   "cell_type": "code",
   "execution_count": 105,
   "metadata": {},
   "outputs": [
    {
     "data": {
      "text/plain": [
       "Counter({0: 47145, 1: 16645})"
      ]
     },
     "execution_count": 105,
     "metadata": {},
     "output_type": "execute_result"
    }
   ],
   "source": [
    "Counter(section_size2.drop(['vccsid','grade','online_ind'], axis=1).drop_duplicates().valid)"
   ]
  },
  {
   "cell_type": "code",
   "execution_count": 124,
   "metadata": {
    "collapsed": true
   },
   "outputs": [],
   "source": [
    "section_size1.loc[:,'first_ind'] = 1\n",
    "section_size2.loc[:,'first_ind'] = 0\n",
    "section_size_all = pd.concat([section_size1, section_size2])"
   ]
  },
  {
   "cell_type": "code",
   "execution_count": 125,
   "metadata": {},
   "outputs": [
    {
     "data": {
      "text/plain": [
       "Counter({2193: 102744, 2194: 332187, 2203: 120040, 2204: 325063, 2212: 293844})"
      ]
     },
     "execution_count": 125,
     "metadata": {},
     "output_type": "execute_result"
    }
   ],
   "source": [
    "Counter(section_size_all.strm)"
   ]
  },
  {
   "cell_type": "code",
   "execution_count": 131,
   "metadata": {},
   "outputs": [
    {
     "name": "stdout",
     "output_type": "stream",
     "text": [
      "ENG_111\n",
      "482.0\n",
      "195.5\n",
      "972.0\n",
      "8973.0\n",
      "3327.5\n",
      "19291.5\n",
      "18.62863070539419\n",
      "16.877949735449736\n",
      "19.850281517048217\n",
      "\n",
      "ENG_112\n",
      "602.0\n",
      "155.0\n",
      "351.5\n",
      "11466.0\n",
      "2985.5\n",
      "6996.5\n",
      "19.05481727574751\n",
      "19.274558774558777\n",
      "19.92606238258729\n",
      "\n",
      "BIO_101\n",
      "391.0\n",
      "151.0\n",
      "525.0\n",
      "5237.0\n",
      "2058.0\n",
      "7573.5\n",
      "22.713554987212277\n",
      "20.109984639016897\n",
      "22.698095238095238\n",
      "\n",
      "MTH_154\n",
      "254.0\n",
      "100.0\n",
      "335.5\n",
      "5736.0\n",
      "1998.0\n",
      "7715.5\n",
      "22.590551181102363\n",
      "19.621757705218187\n",
      "23.00075987841945\n",
      "\n",
      "MTH_161\n",
      "213.0\n",
      "76.0\n",
      "293.5\n",
      "4075.0\n",
      "1409.5\n",
      "6528.5\n",
      "19.154929577464788\n",
      "18.6395670995671\n",
      "22.272650227547132\n",
      "\n"
     ]
    }
   ],
   "source": [
    "for c in ['ENG_111', 'ENG_112', 'BIO_101', 'MTH_154', 'MTH_161']:\n",
    "    sub = section_size_all[section_size_all.course == c]\n",
    "    sp = sub[sub.strm.apply(lambda x: x % 10 == 2)]\n",
    "    su = sub[sub.strm.apply(lambda x: x % 10 == 3)]\n",
    "    fa = sub[sub.strm.apply(lambda x: x % 10 == 4)]\n",
    "    print(c)\n",
    "    print(sp.loc[:,['strm','college','section']].drop_duplicates().groupby(['strm']).agg({'section':'count'}).section.mean())\n",
    "    print(su.loc[:,['strm','college','section']].drop_duplicates().groupby(['strm']).agg({'section':'count'}).section.mean())\n",
    "    print(fa.loc[:,['strm','college','section']].drop_duplicates().groupby(['strm']).agg({'section':'count'}).section.mean())\n",
    "    print(sp.loc[:,['strm','vccsid']].drop_duplicates().groupby(['strm']).agg({'vccsid':'count'}).vccsid.mean())\n",
    "    print(su.loc[:,['strm','vccsid']].drop_duplicates().groupby(['strm']).agg({'vccsid':'count'}).vccsid.mean())\n",
    "    print(fa.loc[:,['strm','vccsid']].drop_duplicates().groupby(['strm']).agg({'vccsid':'count'}).vccsid.mean())\n",
    "    print(sp.groupby(['strm', 'college', 'section']).agg({'vccsid':'count'}).reset_index().groupby(['strm']).agg({'vccsid':'mean'}).vccsid.mean())\n",
    "    print(su.groupby(['strm', 'college', 'section']).agg({'vccsid':'count'}).reset_index().groupby(['strm']).agg({'vccsid':'mean'}).vccsid.mean())\n",
    "    print(fa.groupby(['strm', 'college', 'section']).agg({'vccsid':'count'}).reset_index().groupby(['strm']).agg({'vccsid':'mean'}).vccsid.mean())\n",
    "    print('')"
   ]
  },
  {
   "cell_type": "code",
   "execution_count": 137,
   "metadata": {},
   "outputs": [
    {
     "name": "stdout",
     "output_type": "stream",
     "text": [
      "ENG_111\n",
      "482.0\n",
      "583.75\n",
      "8973.0\n",
      "11309.5\n",
      "18.62863070539419\n",
      "18.364115626248978\n",
      "\n",
      "ENG_112\n",
      "602.0\n",
      "253.25\n",
      "11466.0\n",
      "4991.0\n",
      "19.05481727574751\n",
      "19.600310578573033\n",
      "\n",
      "BIO_101\n",
      "391.0\n",
      "338.0\n",
      "5237.0\n",
      "4815.75\n",
      "22.713554987212277\n",
      "21.404039938556068\n",
      "\n",
      "MTH_154\n",
      "254.0\n",
      "217.75\n",
      "5736.0\n",
      "4856.75\n",
      "22.590551181102363\n",
      "21.31125879181882\n",
      "\n",
      "MTH_161\n",
      "213.0\n",
      "184.75\n",
      "4075.0\n",
      "3969.0\n",
      "19.154929577464788\n",
      "20.456108663557117\n",
      "\n"
     ]
    }
   ],
   "source": [
    "for c in ['ENG_111', 'ENG_112', 'BIO_101', 'MTH_154', 'MTH_161']:\n",
    "    sub = section_size_all[section_size_all.course == c]\n",
    "    sp = sub[sub.strm.apply(lambda x: x % 10 == 2)]\n",
    "    fa = sub[sub.strm.apply(lambda x: x % 10 != 2)]\n",
    "    print(c)\n",
    "    print(sp.loc[:,['strm','college','section']].drop_duplicates().groupby(['strm']).agg({'section':'count'}).section.mean())\n",
    "    print(fa.loc[:,['strm','college','section']].drop_duplicates().groupby(['strm']).agg({'section':'count'}).section.mean())\n",
    "    print(sp.loc[:,['strm','vccsid']].drop_duplicates().groupby(['strm']).agg({'vccsid':'count'}).vccsid.mean())\n",
    "    print(fa.loc[:,['strm','vccsid']].drop_duplicates().groupby(['strm']).agg({'vccsid':'count'}).vccsid.mean())\n",
    "    print(sp.groupby(['strm', 'college', 'section']).agg({'vccsid':'count'}).reset_index().groupby(['strm']).agg({'vccsid':'mean'}).vccsid.mean())\n",
    "    print(fa.groupby(['strm', 'college', 'section']).agg({'vccsid':'count'}).reset_index().groupby(['strm']).agg({'vccsid':'mean'}).vccsid.mean())\n",
    "    print('')"
   ]
  },
  {
   "cell_type": "code",
   "execution_count": 132,
   "metadata": {
    "collapsed": true
   },
   "outputs": [],
   "source": [
    "def num_grade(g):\n",
    "    if g == \"A\":\n",
    "        return 4\n",
    "    elif g == \"B\":\n",
    "        return 3\n",
    "    elif g == \"C\":\n",
    "        return 2\n",
    "    elif g == \"D\":\n",
    "        return 1\n",
    "    else:\n",
    "        return 0"
   ]
  },
  {
   "cell_type": "code",
   "execution_count": 139,
   "metadata": {},
   "outputs": [
    {
     "name": "stdout",
     "output_type": "stream",
     "text": [
      "ENG_111\n"
     ]
    },
    {
     "name": "stderr",
     "output_type": "stream",
     "text": [
      "C:\\Users\\ys8mz\\AppData\\Local\\Continuum\\Anaconda3\\lib\\site-packages\\pandas\\core\\indexing.py:362: SettingWithCopyWarning: \n",
      "A value is trying to be set on a copy of a slice from a DataFrame.\n",
      "Try using .loc[row_indexer,col_indexer] = value instead\n",
      "\n",
      "See the caveats in the documentation: http://pandas.pydata.org/pandas-docs/stable/indexing.html#indexing-view-versus-copy\n",
      "  self.obj[key] = _infer_fill_value(value)\n",
      "C:\\Users\\ys8mz\\AppData\\Local\\Continuum\\Anaconda3\\lib\\site-packages\\pandas\\core\\indexing.py:543: SettingWithCopyWarning: \n",
      "A value is trying to be set on a copy of a slice from a DataFrame.\n",
      "Try using .loc[row_indexer,col_indexer] = value instead\n",
      "\n",
      "See the caveats in the documentation: http://pandas.pydata.org/pandas-docs/stable/indexing.html#indexing-view-versus-copy\n",
      "  self.obj[item] = s\n"
     ]
    },
    {
     "name": "stdout",
     "output_type": "stream",
     "text": [
      "2.437199036918138\n",
      "0.32869892314500665\n",
      "0.5211867532084378\n",
      "\n",
      "ENG_112\n",
      "2.7272695579417094\n",
      "0.27021012811139017\n",
      "0.05044982038973837\n",
      "\n",
      "BIO_101\n",
      "2.53661584603849\n",
      "0.26720094830696284\n",
      "0.1700252538267278\n",
      "\n",
      "MTH_154\n",
      "2.322249955428775\n",
      "0.361390268123138\n",
      "0.24957298907646475\n",
      "\n",
      "MTH_161\n",
      "2.2224116644129577\n",
      "0.41514438716780944\n",
      "0.29913417746859516\n",
      "\n"
     ]
    }
   ],
   "source": [
    "for c in ['ENG_111', 'ENG_112', 'BIO_101', 'MTH_154', 'MTH_161']:\n",
    "    print(c)\n",
    "    sub = section_size_all[section_size_all.course == c]\n",
    "    sub.loc[:,'dfw_ind'] = sub.grade.apply(lambda x: x in {'D','F','W'})\n",
    "    sub_grade = sub[sub.grade != \"W\"]\n",
    "    sub_grade.loc[:,'num_grade'] = sub_grade.grade.apply(lambda x: num_grade(x))\n",
    "    print(sub_grade.num_grade.mean())\n",
    "    print(sub.dfw_ind.mean())\n",
    "    print(sub.first_ind.mean())\n",
    "    print(\"\")"
   ]
  },
  {
   "cell_type": "code",
   "execution_count": 134,
   "metadata": {},
   "outputs": [
    {
     "name": "stdout",
     "output_type": "stream",
     "text": [
      "ENG_111\n"
     ]
    },
    {
     "name": "stderr",
     "output_type": "stream",
     "text": [
      "C:\\Users\\ys8mz\\AppData\\Local\\Continuum\\Anaconda3\\lib\\site-packages\\pandas\\core\\indexing.py:362: SettingWithCopyWarning: \n",
      "A value is trying to be set on a copy of a slice from a DataFrame.\n",
      "Try using .loc[row_indexer,col_indexer] = value instead\n",
      "\n",
      "See the caveats in the documentation: http://pandas.pydata.org/pandas-docs/stable/indexing.html#indexing-view-versus-copy\n",
      "  self.obj[key] = _infer_fill_value(value)\n",
      "C:\\Users\\ys8mz\\AppData\\Local\\Continuum\\Anaconda3\\lib\\site-packages\\pandas\\core\\indexing.py:543: SettingWithCopyWarning: \n",
      "A value is trying to be set on a copy of a slice from a DataFrame.\n",
      "Try using .loc[row_indexer,col_indexer] = value instead\n",
      "\n",
      "See the caveats in the documentation: http://pandas.pydata.org/pandas-docs/stable/indexing.html#indexing-view-versus-copy\n",
      "  self.obj[item] = s\n"
     ]
    },
    {
     "name": "stdout",
     "output_type": "stream",
     "text": [
      "       num_grade\n",
      "valid           \n",
      "0       2.479077\n",
      "1       2.219570\n",
      "        dfw_ind\n",
      "valid          \n",
      "0      0.313173\n",
      "1      0.406950\n",
      "       first_ind\n",
      "valid           \n",
      "0       0.562482\n",
      "1       0.313064\n",
      "       online_ind\n",
      "valid            \n",
      "0        0.301196\n",
      "1        0.396369\n",
      "\n",
      "ENG_112\n",
      "       num_grade\n",
      "valid           \n",
      "0       2.719424\n",
      "1       2.740626\n",
      "        dfw_ind\n",
      "valid          \n",
      "0      0.278395\n",
      "1      0.255950\n",
      "       first_ind\n",
      "valid           \n",
      "0       0.069949\n",
      "1       0.016476\n",
      "       online_ind\n",
      "valid            \n",
      "0        0.473832\n",
      "1        0.442856\n",
      "\n",
      "BIO_101\n",
      "       num_grade\n",
      "valid           \n",
      "0       2.543017\n",
      "1       2.514848\n",
      "        dfw_ind\n",
      "valid          \n",
      "0      0.261487\n",
      "1      0.286454\n",
      "       first_ind\n",
      "valid           \n",
      "0       0.200301\n",
      "1       0.068010\n",
      "       online_ind\n",
      "valid            \n",
      "0        0.196358\n",
      "1        0.270690\n",
      "\n",
      "MTH_154\n",
      "       num_grade\n",
      "valid           \n",
      "0       2.341853\n",
      "1       2.255682\n",
      "        dfw_ind\n",
      "valid          \n",
      "0      0.353141\n",
      "1      0.389334\n",
      "       first_ind\n",
      "valid           \n",
      "0       0.288625\n",
      "1       0.117288\n",
      "       online_ind\n",
      "valid            \n",
      "0        0.287081\n",
      "1        0.365284\n",
      "\n",
      "MTH_161\n",
      "       num_grade\n",
      "valid           \n",
      "0       2.210592\n",
      "1       2.269479\n",
      "        dfw_ind\n",
      "valid          \n",
      "0      0.413810\n",
      "1      0.420343\n",
      "       first_ind\n",
      "valid           \n",
      "0       0.346708\n",
      "1       0.113725\n",
      "       online_ind\n",
      "valid            \n",
      "0        0.242563\n",
      "1        0.290196\n",
      "\n"
     ]
    }
   ],
   "source": [
    "for c in ['ENG_111', 'ENG_112', 'BIO_101', 'MTH_154', 'MTH_161']:\n",
    "    print(c)\n",
    "    sub = section_size_all[section_size_all.course == c]\n",
    "    sub.loc[:,'dfw_ind'] = sub.grade.apply(lambda x: x in {'D','F','W'})\n",
    "    sub_grade = sub[sub.grade != \"W\"]\n",
    "    sub_grade.loc[:,'num_grade'] = sub_grade.grade.apply(lambda x: num_grade(x))\n",
    "    print(sub_grade.groupby(['valid']).agg({'num_grade':'mean'}))\n",
    "    print(sub.groupby(['valid']).agg({'dfw_ind':'mean'}))\n",
    "    print(sub.groupby(['valid']).agg({'first_ind':'mean'}))\n",
    "    print(sub.groupby(['valid']).agg({'online_ind':'mean'}))\n",
    "    print(\"\")"
   ]
  },
  {
   "cell_type": "code",
   "execution_count": 136,
   "metadata": {},
   "outputs": [
    {
     "name": "stdout",
     "output_type": "stream",
     "text": [
      "ENG_111\n",
      "Counter({0: 45253, 1: 8979})\n",
      "ENG_112\n",
      "Counter({0: 19986, 1: 11471})\n",
      "BIO_101\n",
      "Counter({0: 29925, 1: 8881})\n",
      "MTH_154\n",
      "Counter({0: 19437, 1: 5738})\n",
      "MTH_161\n",
      "Counter({0: 15901, 1: 4080})\n"
     ]
    }
   ],
   "source": [
    "for c in ['ENG_111', 'ENG_112', 'BIO_101', 'MTH_154', 'MTH_161']:\n",
    "    print(c)\n",
    "    print(Counter(section_size_all[section_size_all.course == c].valid))"
   ]
  }
 ],
 "metadata": {
  "kernelspec": {
   "display_name": "Python 3",
   "language": "python",
   "name": "python3"
  },
  "language_info": {
   "codemirror_mode": {
    "name": "ipython",
    "version": 3
   },
   "file_extension": ".py",
   "mimetype": "text/x-python",
   "name": "python",
   "nbconvert_exporter": "python",
   "pygments_lexer": "ipython3",
   "version": "3.5.3"
  }
 },
 "nbformat": 4,
 "nbformat_minor": 2
}
