{
 "cells": [
  {
   "cell_type": "markdown",
   "metadata": {},
   "source": [
    "Generate the summary statistics of LMS measures for the whole study sample."
   ]
  },
  {
   "cell_type": "code",
   "execution_count": 97,
   "metadata": {
    "collapsed": true
   },
   "outputs": [],
   "source": [
    "import pandas as pd\n",
    "import numpy as np\n",
    "from collections import Counter"
   ]
  },
  {
   "cell_type": "code",
   "execution_count": 61,
   "metadata": {
    "collapsed": true
   },
   "outputs": [],
   "source": [
    "df = pd.read_stata(\"~\\\\Box Sync\\\\Clickstream\\\\data\\\\full\\\\LMS_data_updated.dta\").rename(columns={'has_assign_qtr1': 'has_on_time_assign_share_qtr1'})\n",
    "sample = pd.read_stata(\"~\\\\Box Sync\\\\Clickstream\\\\data\\\\full\\\\LMS_data_final.dta\").loc[:,['vccsid', 'strm', 'college', 'course', 'section']]\n",
    "df = df.merge(sample, how='inner', on=['vccsid','strm', 'course', 'college', 'section'])"
   ]
  },
  {
   "cell_type": "code",
   "execution_count": 85,
   "metadata": {
    "collapsed": true
   },
   "outputs": [],
   "source": [
    "df_first = pd.read_stata(\"~\\\\Box Sync\\\\Clickstream\\\\data\\\\full\\\\LMS_data_updated.dta\").rename(columns={'has_assign_qtr1': 'has_on_time_assign_share_qtr1'})\n",
    "sample = pd.read_stata(\"~\\\\Box Sync\\\\Clickstream\\\\data\\\\first\\\\LMS_data_final.dta\").loc[:,['vccsid', 'strm', 'college', 'course', 'section']]\n",
    "df_first = df_first.merge(sample, how='inner', on=['vccsid','strm', 'course', 'college', 'section'])"
   ]
  },
  {
   "cell_type": "code",
   "execution_count": 63,
   "metadata": {},
   "outputs": [
    {
     "data": {
      "text/plain": [
       "['avg_depth_post_qtr1',\n",
       " 'avg_session_len_qrt1',\n",
       " 'avg_word_tot_qtr1',\n",
       " 'disc_post_cnt_qtr1',\n",
       " 'disc_reply_cnt_qtr1',\n",
       " 'irreg_session_len_qrt1',\n",
       " 'tot_click_cnt_qrt1',\n",
       " 'tot_time_qrt1',\n",
       " 'has_on_time_assign_share_qtr1',\n",
       " 'has_assign_sub_cnt_qtr1']"
      ]
     },
     "execution_count": 63,
     "metadata": {},
     "output_type": "execute_result"
    }
   ],
   "source": [
    "predictors = [e for e in list(df.columns.values)[6:] if e not in ['assign_sub_cnt_qtr1', 'on_time_assign_share_qtr1']]\n",
    "predictors"
   ]
  },
  {
   "cell_type": "code",
   "execution_count": 64,
   "metadata": {},
   "outputs": [
    {
     "data": {
      "text/plain": [
       "(969025, 20)"
      ]
     },
     "execution_count": 64,
     "metadata": {},
     "output_type": "execute_result"
    }
   ],
   "source": [
    "online_ind_df = pd.read_stata(\"~\\\\Box Sync\\\\Clickstream\\\\data\\\\full\\\\updated_online_ind.dta\")\n",
    "df = online_ind_df.merge(df, how='inner', on=['vccsid','strm', 'course', 'college', 'section'])\n",
    "df.shape"
   ]
  },
  {
   "cell_type": "code",
   "execution_count": 88,
   "metadata": {},
   "outputs": [
    {
     "data": {
      "text/plain": [
       "(204853, 20)"
      ]
     },
     "execution_count": 88,
     "metadata": {},
     "output_type": "execute_result"
    }
   ],
   "source": [
    "online_ind_df_first_first = pd.read_stata(\"~\\\\Box Sync\\\\Clickstream\\\\data\\\\first\\\\updated_online_ind.dta\")\n",
    "df_first = online_ind_df_first_first.merge(df_first, how='inner', on=['vccsid','strm', 'course', 'college', 'section'])\n",
    "df_first.shape"
   ]
  },
  {
   "cell_type": "code",
   "execution_count": 65,
   "metadata": {
    "collapsed": true
   },
   "outputs": [],
   "source": [
    "df = df.fillna(0)"
   ]
  },
  {
   "cell_type": "code",
   "execution_count": 89,
   "metadata": {
    "collapsed": true
   },
   "outputs": [],
   "source": [
    "df_first = df_first.fillna(0)"
   ]
  },
  {
   "cell_type": "code",
   "execution_count": 66,
   "metadata": {
    "collapsed": true
   },
   "outputs": [],
   "source": [
    "df_sub1 = df[np.array(df.online_ind == 1) & np.array(df.strm < 2212)]\n",
    "df_sub2 = df[np.array(df.online_ind == 0) & np.array(df.strm < 2212)]\n",
    "df_sub3 = df[np.array(df.online_ind == 1) & np.array(df.strm == 2212)]\n",
    "df_sub4 = df[np.array(df.online_ind == 0) & np.array(df.strm == 2212)]"
   ]
  },
  {
   "cell_type": "code",
   "execution_count": 90,
   "metadata": {
    "collapsed": true
   },
   "outputs": [],
   "source": [
    "df_first_sub1 = df_first[np.array(df_first.online_ind == 1) & np.array(df_first.strm < 2212)]\n",
    "df_first_sub2 = df_first[np.array(df_first.online_ind == 0) & np.array(df_first.strm < 2212)]\n",
    "df_first_sub3 = df_first[np.array(df_first.online_ind == 1) & np.array(df_first.strm == 2212)]\n",
    "df_first_sub4 = df_first[np.array(df_first.online_ind == 0) & np.array(df_first.strm == 2212)]"
   ]
  },
  {
   "cell_type": "code",
   "execution_count": 91,
   "metadata": {
    "collapsed": true
   },
   "outputs": [],
   "source": [
    "def generate_stats(table):\n",
    "    r_dict = {}\n",
    "    for p in predictors:\n",
    "        r_dict[p] = table[p].mean()\n",
    "    for p in ['assign_sub_cnt_qtr1', 'on_time_assign_share_qtr1']:\n",
    "        r_dict[p] = table[table['has_'+p] == 1].loc[:,p].mean()\n",
    "    return pd.DataFrame.from_dict(r_dict, orient='index').rename(columns={0: 'mean'})\\\n",
    ".loc[['assign_sub_cnt_qtr1', 'has_assign_sub_cnt_qtr1', 'on_time_assign_share_qtr1', 'has_on_time_assign_share_qtr1',\n",
    "      'avg_session_len_qrt1', 'irreg_session_len_qrt1', 'tot_click_cnt_qrt1', 'tot_time_qrt1',\n",
    "      'avg_depth_post_qtr1', 'avg_word_tot_qtr1', 'disc_post_cnt_qtr1', 'disc_reply_cnt_qtr1'],:]"
   ]
  },
  {
   "cell_type": "code",
   "execution_count": 83,
   "metadata": {
    "collapsed": true
   },
   "outputs": [],
   "source": [
    "pd.concat([generate_stats(df_sub1), generate_stats(df_sub2), generate_stats(df_sub3), generate_stats(df_sub4)], axis=1).round(4)\\\n",
    ".to_csv(\"~\\\\Box Sync\\\\Clickstream\\\\data\\\\full\\\\lms_predictor_comparison_early_term.csv\", index=False)"
   ]
  },
  {
   "cell_type": "code",
   "execution_count": 92,
   "metadata": {
    "collapsed": true
   },
   "outputs": [],
   "source": [
    "pd.concat([generate_stats(df_first_sub1), generate_stats(df_first_sub2), generate_stats(df_first_sub3), generate_stats(df_first_sub4)], axis=1).round(4)\\\n",
    ".to_csv(\"~\\\\Box Sync\\\\Clickstream\\\\data\\\\full\\\\lms_predictor_comparison_early_term_first.csv\", index=False)"
   ]
  },
  {
   "cell_type": "code",
   "execution_count": 93,
   "metadata": {
    "collapsed": true
   },
   "outputs": [],
   "source": [
    "df_full = pd.concat([df, df_first])"
   ]
  },
  {
   "cell_type": "code",
   "execution_count": 95,
   "metadata": {
    "collapsed": true
   },
   "outputs": [],
   "source": [
    "df_full_sub1 = df_full[df_full.online_ind == 1]\n",
    "df_full_sub2 = df_full[df_full.online_ind == 0]"
   ]
  },
  {
   "cell_type": "code",
   "execution_count": 96,
   "metadata": {
    "collapsed": true
   },
   "outputs": [],
   "source": [
    "pd.concat([generate_stats(df_first_sub1), generate_stats(df_first_sub2)], axis=1).round(4)\\\n",
    ".to_csv(\"~\\\\Box Sync\\\\Clickstream\\\\data\\\\full\\\\lms_predictor_comparison_early_term_full.csv\", index=False)"
   ]
  },
  {
   "cell_type": "code",
   "execution_count": 99,
   "metadata": {},
   "outputs": [
    {
     "data": {
      "text/plain": [
       "(Counter({0.0: 307742, 1.0: 866136}), Counter({0.0: 871945, 1.0: 301933}))"
      ]
     },
     "execution_count": 99,
     "metadata": {},
     "output_type": "execute_result"
    }
   ],
   "source": [
    "Counter(df_full.online_ind), Counter(df_full.inperson_ind)"
   ]
  },
  {
   "cell_type": "code",
   "execution_count": 101,
   "metadata": {},
   "outputs": [
    {
     "data": {
      "text/plain": [
       "(Counter({0.0: 17672, 1.0: 44654}), Counter({0.0: 44965, 1.0: 17358}))"
      ]
     },
     "execution_count": 101,
     "metadata": {},
     "output_type": "execute_result"
    }
   ],
   "source": [
    "Counter(df_full.loc[:,['course', 'section', 'strm', 'online_ind']].drop_duplicates().online_ind), Counter(df_full.loc[:,['course', 'section', 'strm', 'inperson_ind']].drop_duplicates().inperson_ind)"
   ]
  },
  {
   "cell_type": "code",
   "execution_count": 102,
   "metadata": {},
   "outputs": [
    {
     "data": {
      "text/plain": [
       "(Counter({0.0: 223257, 1.0: 475104}), Counter({0.0: 479972, 1.0: 218389}))"
      ]
     },
     "execution_count": 102,
     "metadata": {},
     "output_type": "execute_result"
    }
   ],
   "source": [
    "Counter(df[df.strm < 2212].online_ind), Counter(df[df.strm < 2212].inperson_ind)"
   ]
  },
  {
   "cell_type": "code",
   "execution_count": 103,
   "metadata": {},
   "outputs": [
    {
     "data": {
      "text/plain": [
       "(Counter({0.0: 15358, 1.0: 255306}), Counter({0.0: 255378, 1.0: 15286}))"
      ]
     },
     "execution_count": 103,
     "metadata": {},
     "output_type": "execute_result"
    }
   ],
   "source": [
    "Counter(df[df.strm == 2212].online_ind), Counter(df[df.strm == 2212].inperson_ind)"
   ]
  },
  {
   "cell_type": "code",
   "execution_count": 104,
   "metadata": {},
   "outputs": [
    {
     "data": {
      "text/plain": [
       "(Counter({0.0: 68062, 1.0: 113611}), Counter({0.0: 114469, 1.0: 67204}))"
      ]
     },
     "execution_count": 104,
     "metadata": {},
     "output_type": "execute_result"
    }
   ],
   "source": [
    "Counter(df_first[df_first.strm < 2212].online_ind), Counter(df_first[df_first.strm < 2212].inperson_ind)"
   ]
  },
  {
   "cell_type": "code",
   "execution_count": 105,
   "metadata": {},
   "outputs": [
    {
     "data": {
      "text/plain": [
       "(Counter({0.0: 1065, 1.0: 22115}), Counter({0.0: 22126, 1.0: 1054}))"
      ]
     },
     "execution_count": 105,
     "metadata": {},
     "output_type": "execute_result"
    }
   ],
   "source": [
    "Counter(df_first[df_first.strm == 2212].online_ind), Counter(df_first[df_first.strm == 2212].inperson_ind)"
   ]
  },
  {
   "cell_type": "code",
   "execution_count": 106,
   "metadata": {},
   "outputs": [
    {
     "data": {
      "text/plain": [
       "(Counter({0.0: 15891, 1.0: 29914}), Counter({0.0: 30205, 1.0: 15598}))"
      ]
     },
     "execution_count": 106,
     "metadata": {},
     "output_type": "execute_result"
    }
   ],
   "source": [
    "Counter(df[df.strm < 2212].loc[:,['course', 'section', 'strm', 'online_ind']].drop_duplicates().online_ind), Counter(df[df.strm < 2212].loc[:,['course', 'section', 'strm', 'inperson_ind']].drop_duplicates().inperson_ind)"
   ]
  },
  {
   "cell_type": "code",
   "execution_count": 107,
   "metadata": {},
   "outputs": [
    {
     "data": {
      "text/plain": [
       "(Counter({0.0: 1700, 1.0: 14619}), Counter({0.0: 14637, 1.0: 1681}))"
      ]
     },
     "execution_count": 107,
     "metadata": {},
     "output_type": "execute_result"
    }
   ],
   "source": [
    "Counter(df[df.strm == 2212].loc[:,['course', 'section', 'strm', 'online_ind']].drop_duplicates().online_ind), Counter(df[df.strm == 2212].loc[:,['course', 'section', 'strm', 'inperson_ind']].drop_duplicates().inperson_ind)"
   ]
  },
  {
   "cell_type": "code",
   "execution_count": 108,
   "metadata": {},
   "outputs": [
    {
     "data": {
      "text/plain": [
       "(Counter({0.0: 11137, 1.0: 21957}), Counter({0.0: 22144, 1.0: 10950}))"
      ]
     },
     "execution_count": 108,
     "metadata": {},
     "output_type": "execute_result"
    }
   ],
   "source": [
    "Counter(df_first[df_first.strm < 2212].loc[:,['course', 'section', 'strm', 'online_ind']].drop_duplicates().online_ind), Counter(df_first[df_first.strm < 2212].loc[:,['course', 'section', 'strm', 'inperson_ind']].drop_duplicates().inperson_ind)"
   ]
  },
  {
   "cell_type": "code",
   "execution_count": 109,
   "metadata": {},
   "outputs": [
    {
     "data": {
      "text/plain": [
       "(Counter({0.0: 377, 1.0: 7825}), Counter({0.0: 7827, 1.0: 375}))"
      ]
     },
     "execution_count": 109,
     "metadata": {},
     "output_type": "execute_result"
    }
   ],
   "source": [
    "Counter(df_first[df_first.strm == 2212].loc[:,['course', 'section', 'strm', 'online_ind']].drop_duplicates().online_ind), Counter(df_first[df_first.strm == 2212].loc[:,['course', 'section', 'strm', 'inperson_ind']].drop_duplicates().inperson_ind)"
   ]
  },
  {
   "cell_type": "code",
   "execution_count": null,
   "metadata": {
    "collapsed": true
   },
   "outputs": [],
   "source": []
  }
 ],
 "metadata": {
  "kernelspec": {
   "display_name": "Python 3",
   "language": "python",
   "name": "python3"
  },
  "language_info": {
   "codemirror_mode": {
    "name": "ipython",
    "version": 3
   },
   "file_extension": ".py",
   "mimetype": "text/x-python",
   "name": "python",
   "nbconvert_exporter": "python",
   "pygments_lexer": "ipython3",
   "version": "3.5.3"
  }
 },
 "nbformat": 4,
 "nbformat_minor": 2
}
