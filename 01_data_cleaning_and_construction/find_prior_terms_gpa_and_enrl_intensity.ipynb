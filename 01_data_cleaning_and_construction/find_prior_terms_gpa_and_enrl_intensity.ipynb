{
 "cells": [
  {
   "cell_type": "markdown",
   "metadata": {},
   "source": [
    "<b>Name:</b> find_prior_terms_gpa_and_enrl_intensity.ipynb <br>\n",
    "<b>Author:</b> Yifeng Song <br>\n",
    "<b>Purpose:</b> Reorganize the term-specific GPA and enrollment intensity data into dictionaries that map student x term to the lists of prior term GPA and term enrollment values, so that they can be processed later on to find out the trendline (slope) of term GPA and term enrollment intensity as predictors for grade prediction models."
   ]
  },
  {
   "cell_type": "code",
   "execution_count": 3,
   "metadata": {
    "collapsed": true
   },
   "outputs": [],
   "source": [
    "import pandas as pd\n",
    "import numpy as np\n",
    "import pickle\n",
    "import getpass\n",
    "\n",
    "fpath = \"C:\\\\Users\\\\ys8mz\\\\Box Sync\\\\Clickstream\\\\data\\\\full\""
   ]
  },
  {
   "cell_type": "code",
   "execution_count": 4,
   "metadata": {},
   "outputs": [
    {
     "data": {
      "text/plain": [
       "(1223978, 5)"
      ]
     },
     "execution_count": 4,
     "metadata": {},
     "output_type": "execute_result"
    }
   ],
   "source": [
    "# Load the table which contains the term enrollment intensity and term GPA of all actively enrolled terms for each student\n",
    "df = pd.read_stata(\"{}\\\\term_lvl_gpa_enrl_intensity.dta\".format(fpath)).loc[:,['vccsid', 'strm', 'term_credits_attempted', 'term_gpa', 'term_num']] # This file was created by the Stata script \"processing_additional.do\"\n",
    "df.shape"
   ]
  },
  {
   "cell_type": "code",
   "execution_count": 5,
   "metadata": {},
   "outputs": [
    {
     "name": "stdout",
     "output_type": "stream",
     "text": [
      "0\n",
      "100000\n",
      "200000\n",
      "300000\n",
      "400000\n",
      "500000\n",
      "600000\n",
      "700000\n",
      "800000\n",
      "900000\n",
      "1000000\n",
      "1100000\n",
      "1200000\n"
     ]
    }
   ],
   "source": [
    "# For each student x term, create the list of term_gpa values within all prior terms with respect to the \"current\" term\n",
    "results_dict_1 = {} # Use a dictionary to store the values, mapping each student x term to the list of all prior term GPA values\n",
    "crnt_id = \"\"\n",
    "start_indx = 0\n",
    "for i in range(df.shape[0]):\n",
    "    if i%1e5 == 0:\n",
    "        print(i)\n",
    "    vccsid = df.iloc[i,0]\n",
    "    strm = df.iloc[i,1]\n",
    "    if vccsid != crnt_id: # The DataFrame has been sorted with respect to vccsid and strm, so seeing a new vccsid means the completion of processing the data of the previous student\n",
    "        crnt_id = vccsid\n",
    "        start_indx = i\n",
    "        results_dict_1[vccsid+str(strm)] = []\n",
    "    else:\n",
    "        results_dict_1[vccsid+str(strm)] = [e for e in list(df.iloc[start_indx:i,-2]) if pd.isnull(e) == False] # exclude the term where term GPA value is missing"
   ]
  },
  {
   "cell_type": "code",
   "execution_count": 6,
   "metadata": {},
   "outputs": [
    {
     "name": "stdout",
     "output_type": "stream",
     "text": [
      "0\n",
      "100000\n",
      "200000\n",
      "300000\n",
      "400000\n",
      "500000\n",
      "600000\n",
      "700000\n",
      "800000\n",
      "900000\n",
      "1000000\n",
      "1100000\n",
      "1200000\n"
     ]
    }
   ],
   "source": [
    "# For each student x term, create the list of term enrollment intensity values within all prior terms with respect to the \"current\" term\n",
    "results_dict_2 = {} # Use a dictionary to store the values, mapping each student x term to the list of all prior term GPA values\n",
    "crnt_id = \"\"\n",
    "start_indx = 0\n",
    "for i in range(df.shape[0]):\n",
    "    if i%1e5 == 0:\n",
    "        print(i)\n",
    "    vccsid = df.iloc[i,0]\n",
    "    strm = df.iloc[i,1]\n",
    "    if vccsid != crnt_id: # The DataFrame has been sorted with respect to vccsid and strm, so seeing a new vccsid means the completion of processing the data of the previous student\n",
    "        crnt_id = vccsid\n",
    "        start_indx = i\n",
    "        results_dict_2[vccsid+str(strm)] = []\n",
    "    else:\n",
    "        results_dict_2[vccsid+str(strm)] = [e for e in list(df.iloc[start_indx:i,-3]) if pd.isnull(e) == False] # exclude the term where term enrollment intensity value is missing"
   ]
  },
  {
   "cell_type": "code",
   "execution_count": 7,
   "metadata": {
    "collapsed": true
   },
   "outputs": [],
   "source": [
    "# Save the dictionaries to file for later retrieval\n",
    "results_1 = [(k,v) for k,v in results_dict_1.items()]\n",
    "pickle.dump(results_1, open(\"{}\\\\results_1.p\".format(fpath), \"wb\"))\n",
    "\n",
    "results_2 = [(k,v) for k,v in results_dict_2.items()]\n",
    "pickle.dump(results_2, open(\"{}\\\\results_2.p\".format(fpath), \"wb\"))"
   ]
  },
  {
   "cell_type": "code",
   "execution_count": null,
   "metadata": {
    "collapsed": true
   },
   "outputs": [],
   "source": []
  }
 ],
 "metadata": {
  "kernelspec": {
   "display_name": "Python 3",
   "language": "python",
   "name": "python3"
  },
  "language_info": {
   "codemirror_mode": {
    "name": "ipython",
    "version": 3
   },
   "file_extension": ".py",
   "mimetype": "text/x-python",
   "name": "python",
   "nbconvert_exporter": "python",
   "pygments_lexer": "ipython3",
   "version": "3.5.3"
  }
 },
 "nbformat": 4,
 "nbformat_minor": 2
}
