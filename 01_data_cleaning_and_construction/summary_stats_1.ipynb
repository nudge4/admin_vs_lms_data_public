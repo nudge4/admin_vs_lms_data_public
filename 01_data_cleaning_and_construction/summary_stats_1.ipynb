{
 "cells": [
  {
   "cell_type": "markdown",
   "metadata": {},
   "source": [
    "Generate the summary statistics of admin data for the whole study sample."
   ]
  },
  {
   "cell_type": "code",
   "execution_count": 10,
   "metadata": {
    "collapsed": true
   },
   "outputs": [],
   "source": [
    "import pandas as pd\n",
    "import numpy as np"
   ]
  },
  {
   "cell_type": "code",
   "execution_count": 11,
   "metadata": {
    "collapsed": true
   },
   "outputs": [],
   "source": [
    "df1 = pd.read_stata(\"~\\\\Box Sync\\\\Clickstream\\\\data\\\\first\\\\LMS_data_final.dta\").loc[:,['vccsid','strm', 'college', 'course', 'section', 'grade']]\n",
    "df2 = pd.read_stata(\"~\\\\Box Sync\\\\Clickstream\\\\data\\\\full\\\\LMS_data_final.dta\").loc[:,['vccsid','strm', 'college', 'course','section', 'grade']]"
   ]
  },
  {
   "cell_type": "code",
   "execution_count": 12,
   "metadata": {
    "collapsed": true
   },
   "outputs": [],
   "source": [
    "subj_dict = {'BUS': ['ACC', 'BUS', 'MKT', 'HRI', 'FIN', 'REA', 'ACQ', 'CON', 'ISR'],\n",
    "             'ART': ['ART', 'DAN', 'MUS', 'HRT', 'CRF', 'PHT', 'IDS', \"DEC\"],\n",
    "             'SCI': ['BIO', 'GOL', 'PHY', 'NAS', 'CHM', 'SCT'],\n",
    "             'EGR': ['EGR', 'CSC', 'ITD', 'ITE', 'ITN', 'ITP',\n",
    "                     'HIM', 'ENE', 'GIS', 'ENV', 'HIT', 'ARC',\n",
    "                     'ETR', 'AST', 'IND', 'IST', 'DRF', 'CAD', \n",
    "                     'TEL', 'MEC', 'AMT', 'ARO', 'CIV', \"INS\", 'NUC', 'UMS', \"AVI\", \"ESR\", \"NAN\"],\n",
    "             'MTH': ['MTE', 'MTH', 'MTT', 'MCR', 'MDE'],\n",
    "             'SOC': ['EDU', 'SOC', 'ECO', 'GEO', 'HIS', 'PSY',\n",
    "                     'PLS', 'ADJ', 'LGL', 'CHD', 'SSC', \"PBS\", \"EIP\"],\n",
    "             'MED': ['EMS', 'NUR', 'HLT', 'PED', 'DMS', 'RAD', \n",
    "                     'EMT', 'PNE', 'DNA', 'SUR', 'NSG', 'HCT',\n",
    "                     'DNH', 'OCT', 'CSP', 'DIT', 'PSG', 'PNG',\n",
    "                     'PTH', 'MEN', 'MDL', 'RTH', \"MDA\", \"OPT\", \"ROC\", \"DNL\", \"OMP\", \"PBH\"],\n",
    "             'HUM': ['HUM', 'CST', 'PHI', 'REL', 'ENG', 'ENF',\n",
    "                     'EDE', 'HMS', 'SDV', 'SPD', 'STD', 'SCM', 'MET'],\n",
    "             'FLA': ['ASL', 'ARA', 'FRE', 'GER', 'JPN', 'KOR',\n",
    "                     'ITA', 'LAT', 'SPA', 'CHI', 'ESL', 'RUS', 'INT', 'GRE', 'POR', 'VTN'],\n",
    "             'OCC': ['FST', 'AGR', 'AIR', 'ARO', 'AUT', 'FOR',\n",
    "                     'FIR', 'WEL', 'VET', 'EQU', 'LBR', 'BCS',\n",
    "                     'BLD', 'BSK', 'COS', 'VEN', 'TRK', 'TRV',\n",
    "                     'PNT', 'MSC', 'MAR', 'MAC', 'ELE', 'RVH',\n",
    "                     'RPK', 'SAF', 'AUB', \"DSL\", 'FNS', \"MRT\",\n",
    "                     'MTS', 'RPK', \"FUR\", \"GWR\", \"MIN\", \"PPT\",\n",
    "                     'HVE']}\n",
    "subj_inverse_dict = {e:k for k,v in subj_dict.items() for e in v}"
   ]
  },
  {
   "cell_type": "code",
   "execution_count": 13,
   "metadata": {
    "collapsed": true
   },
   "outputs": [],
   "source": [
    "course1 = df1[df1.strm < 2212].loc[:,['course']].drop_duplicates()\n",
    "course1.loc[:,'lvl2_ind'] = course1.course.apply(lambda x: x.split(\"_\")[-1][0] == \"2\").astype(int)\n",
    "course1.loc[:,'subject'] = course1.course.apply(lambda x: subj_inverse_dict[x.split(\"_\")[0]])\n",
    "course2 = df2[df2.strm < 2212].loc[:,['course']].drop_duplicates()\n",
    "course2.loc[:,'lvl2_ind'] = course2.course.apply(lambda x: x.split(\"_\")[-1][0] == \"2\").astype(int)\n",
    "course2.loc[:,'subject'] = course2.course.apply(lambda x: subj_inverse_dict[x.split(\"_\")[0]])\n",
    "course3 = df1[df1.strm == 2212].loc[:,['course']].drop_duplicates()\n",
    "course3.loc[:,'lvl2_ind'] = course3.course.apply(lambda x: x.split(\"_\")[-1][0] == \"2\").astype(int)\n",
    "course3.loc[:,'subject'] = course3.course.apply(lambda x: subj_inverse_dict[x.split(\"_\")[0]])\n",
    "course4 = df2[df2.strm == 2212].loc[:,['course']].drop_duplicates()\n",
    "course4.loc[:,'lvl2_ind'] = course4.course.apply(lambda x: x.split(\"_\")[-1][0] == \"2\").astype(int)\n",
    "course4.loc[:,'subject'] = course4.course.apply(lambda x: subj_inverse_dict[x.split(\"_\")[0]])\n",
    "course = pd.concat([course1, course2, course3, course4]).drop_duplicates()"
   ]
  },
  {
   "cell_type": "code",
   "execution_count": 14,
   "metadata": {},
   "outputs": [
    {
     "data": {
      "text/plain": [
       "(0.5011337868480725,\n",
       " 0.39313795568263044,\n",
       " 0.4853072128227961,\n",
       " 0.39233954451345754,\n",
       " 0.5082956259426847)"
      ]
     },
     "execution_count": 14,
     "metadata": {},
     "output_type": "execute_result"
    }
   ],
   "source": [
    "np.mean(course.lvl2_ind), np.mean(course1.lvl2_ind), np.mean(course2.lvl2_ind),\\\n",
    "np.mean(course3.lvl2_ind), np.mean(course4.lvl2_ind)"
   ]
  },
  {
   "cell_type": "code",
   "execution_count": 15,
   "metadata": {},
   "outputs": [
    {
     "data": {
      "text/plain": [
       "{'ART': 0.09674981103552532,\n",
       " 'BUS': 0.07294028722600152,\n",
       " 'EGR': 0.2180650037792895,\n",
       " 'FLA': 0.025699168556311415,\n",
       " 'HUM': 0.06878306878306878,\n",
       " 'MED': 0.19879062736205594,\n",
       " 'MTH': 0.01020408163265306,\n",
       " 'OCC': 0.17989417989417988,\n",
       " 'SCI': 0.03250188964474679,\n",
       " 'SOC': 0.0963718820861678}"
      ]
     },
     "execution_count": 15,
     "metadata": {},
     "output_type": "execute_result"
    }
   ],
   "source": [
    "from collections import Counter\n",
    "{k:v/course.shape[0] for k,v in Counter(course.subject).items()}"
   ]
  },
  {
   "cell_type": "code",
   "execution_count": 16,
   "metadata": {},
   "outputs": [
    {
     "data": {
      "text/plain": [
       "{'ART': 0.10293066476054324,\n",
       " 'BUS': 0.08577555396711938,\n",
       " 'EGR': 0.20371694067190851,\n",
       " 'FLA': 0.035739814152966405,\n",
       " 'HUM': 0.09292351679771266,\n",
       " 'MED': 0.14367405289492494,\n",
       " 'MTH': 0.017155110793423873,\n",
       " 'OCC': 0.14224446032880628,\n",
       " 'SCI': 0.04288777698355969,\n",
       " 'SOC': 0.13295210864903503}"
      ]
     },
     "execution_count": 16,
     "metadata": {},
     "output_type": "execute_result"
    }
   ],
   "source": [
    "{k:v/course1.shape[0] for k,v in Counter(course1.subject).items()}"
   ]
  },
  {
   "cell_type": "code",
   "execution_count": 17,
   "metadata": {},
   "outputs": [
    {
     "data": {
      "text/plain": [
       "{'ART': 0.07763975155279502,\n",
       " 'BUS': 0.08799171842650104,\n",
       " 'EGR': 0.2401656314699793,\n",
       " 'FLA': 0.036231884057971016,\n",
       " 'HUM': 0.09420289855072464,\n",
       " 'MED': 0.10766045548654245,\n",
       " 'MTH': 0.020703933747412008,\n",
       " 'OCC': 0.13871635610766045,\n",
       " 'SCI': 0.053830227743271224,\n",
       " 'SOC': 0.14285714285714285}"
      ]
     },
     "execution_count": 17,
     "metadata": {},
     "output_type": "execute_result"
    }
   ],
   "source": [
    "{k:v/course3.shape[0] for k,v in Counter(course3.subject).items()}"
   ]
  },
  {
   "cell_type": "code",
   "execution_count": 18,
   "metadata": {},
   "outputs": [
    {
     "data": {
      "text/plain": [
       "{'ART': 0.09928762243989314,\n",
       " 'BUS': 0.07390917186108638,\n",
       " 'EGR': 0.21015138023152272,\n",
       " 'FLA': 0.02804986642920748,\n",
       " 'HUM': 0.07168299198575245,\n",
       " 'MED': 0.20213713268032057,\n",
       " 'MTH': 0.012021371326803205,\n",
       " 'OCC': 0.1674087266251113,\n",
       " 'SCI': 0.03383793410507569,\n",
       " 'SOC': 0.10151380231522707}"
      ]
     },
     "execution_count": 18,
     "metadata": {},
     "output_type": "execute_result"
    }
   ],
   "source": [
    "{k:v/course2.shape[0] for k,v in Counter(course2.subject).items()}"
   ]
  },
  {
   "cell_type": "code",
   "execution_count": 19,
   "metadata": {},
   "outputs": [
    {
     "data": {
      "text/plain": [
       "{'ART': 0.10105580693815988,\n",
       " 'BUS': 0.07943690296631473,\n",
       " 'EGR': 0.2212166918049271,\n",
       " 'FLA': 0.027652086475615886,\n",
       " 'HUM': 0.07642031171442937,\n",
       " 'MED': 0.17546505781799898,\n",
       " 'MTH': 0.011060834590246356,\n",
       " 'OCC': 0.16792357968828556,\n",
       " 'SCI': 0.03619909502262444,\n",
       " 'SOC': 0.1035696329813977}"
      ]
     },
     "execution_count": 19,
     "metadata": {},
     "output_type": "execute_result"
    }
   ],
   "source": [
    "{k:v/course4.shape[0] for k,v in Counter(course4.subject).items()}"
   ]
  },
  {
   "cell_type": "code",
   "execution_count": 21,
   "metadata": {
    "collapsed": true
   },
   "outputs": [],
   "source": [
    "section_size1 = pd.read_csv(\"~\\\\Box Sync\\\\Clickstream\\\\data\\\\first\\\\course_specific_predictors_new.csv\").loc[:,['vccsid', 'strm', 'college', 'course', 'section']]\n",
    "section_size2 = pd.read_csv(\"~\\\\Box Sync\\\\Clickstream\\\\data\\\\full\\\\course_specific_predictors_new.csv\").loc[:,['vccsid', 'strm', 'college', 'course', 'section']]"
   ]
  },
  {
   "cell_type": "code",
   "execution_count": null,
   "metadata": {
    "collapsed": true
   },
   "outputs": [],
   "source": [
    "online_ind_df_1 = pd.read_stata(\"\\\\Box Sync\\\\Clickstream\\\\data\\\\first\\\\updated_online_ind.dta\").drop(['inperson_ind'], axis=1)\n",
    "online_ind_df_2 = pd.read_stata(\"~\\\\Box Sync\\\\Clickstream\\\\data\\\\full\\\\updated_online_ind.dta\").drop(['inperson_ind'], axis=1)"
   ]
  },
  {
   "cell_type": "code",
   "execution_count": 29,
   "metadata": {
    "collapsed": true
   },
   "outputs": [],
   "source": [
    "section_size1 = section_size1.merge(online_ind_df_1, on=['vccsid','strm','college','course','section'], how='inner')\n",
    "section_size2 = section_size2.merge(online_ind_df_2, on=['vccsid','strm','college','course','section'], how='inner')"
   ]
  },
  {
   "cell_type": "code",
   "execution_count": 32,
   "metadata": {
    "collapsed": true
   },
   "outputs": [],
   "source": [
    "section_size1 = df1.merge(section_size1, on=['vccsid', 'strm', 'college', 'course', 'section'], how='left')\n",
    "section_size2 = df2.merge(section_size2, on=['vccsid', 'strm', 'college', 'course', 'section'], how='left')\n",
    "section_size1.loc[:,'valid'] = (section_size1.strm == 2212).astype(int)\n",
    "section_size2.loc[:,'valid'] = (section_size2.strm == 2212).astype(int)\n",
    "# section_size1 = section_size1.drop(['vccsid'], axis=1).drop_duplicates()\n",
    "# section_size2 = section_size2.drop(['vccsid'], axis=1).drop_duplicates()"
   ]
  },
  {
   "cell_type": "code",
   "execution_count": 33,
   "metadata": {},
   "outputs": [
    {
     "data": {
      "text/plain": [
       "18.34356345907429"
      ]
     },
     "execution_count": 33,
     "metadata": {},
     "output_type": "execute_result"
    }
   ],
   "source": [
    "section_sizes = pd.concat([section_size1,section_size2]).groupby(['strm', 'college', 'course', 'section']).agg({'vccsid':'count'}).reset_index()\n",
    "section_sizes.vccsid.mean()"
   ]
  },
  {
   "cell_type": "code",
   "execution_count": 34,
   "metadata": {},
   "outputs": [
    {
     "data": {
      "text/plain": [
       "(20.631695244829416, 20.415379043940124)"
      ]
     },
     "execution_count": 34,
     "metadata": {},
     "output_type": "execute_result"
    }
   ],
   "source": [
    "ss1 = section_size1.drop(['vccsid','grade'], axis=1).drop_duplicates().merge(section_sizes, on=['strm', 'college', 'course', 'section'], how='inner')\n",
    "ss1[ss1.valid == 0].vccsid.mean(), ss1[ss1.valid == 1].vccsid.mean()"
   ]
  },
  {
   "cell_type": "code",
   "execution_count": 35,
   "metadata": {},
   "outputs": [
    {
     "data": {
      "text/plain": [
       "(18.649167462085057, 17.65010513667768)"
      ]
     },
     "execution_count": 35,
     "metadata": {},
     "output_type": "execute_result"
    }
   ],
   "source": [
    "ss2 = section_size2.drop(['vccsid','grade'], axis=1).drop_duplicates().merge(section_sizes, on=['strm', 'college', 'course', 'section'], how='inner')\n",
    "ss2[ss2.valid == 0].vccsid.mean(), ss2[ss2.valid == 1].vccsid.mean()"
   ]
  },
  {
   "cell_type": "code",
   "execution_count": 36,
   "metadata": {},
   "outputs": [
    {
     "data": {
      "text/plain": [
       "153.8906659674882"
      ]
     },
     "execution_count": 36,
     "metadata": {},
     "output_type": "execute_result"
    }
   ],
   "source": [
    "course_sizes = pd.concat([section_size1, section_size2]).loc[:,['strm', 'course', 'vccsid', 'valid']].groupby(['strm', 'course']).agg({'vccsid':'count'}).reset_index()\n",
    "course_sizes.vccsid.mean()"
   ]
  },
  {
   "cell_type": "code",
   "execution_count": 37,
   "metadata": {},
   "outputs": [
    {
     "data": {
      "text/plain": [
       "(257.03238741517583, 276.19565217391306)"
      ]
     },
     "execution_count": 37,
     "metadata": {},
     "output_type": "execute_result"
    }
   ],
   "source": [
    "ss3 = section_size1.loc[:,['strm', 'course', 'valid']].merge(course_sizes, on=['strm', 'course']).drop_duplicates()\n",
    "ss3[ss3.valid == 0].vccsid.mean(), ss3[ss3.valid == 1].vccsid.mean()"
   ]
  },
  {
   "cell_type": "code",
   "execution_count": 38,
   "metadata": {},
   "outputs": [
    {
     "data": {
      "text/plain": [
       "(156.4104159260576, 147.73403720462545)"
      ]
     },
     "execution_count": 38,
     "metadata": {},
     "output_type": "execute_result"
    }
   ],
   "source": [
    "ss4 = section_size2.loc[:,['strm', 'course', 'valid']].merge(course_sizes, on=['strm', 'course']).drop_duplicates()\n",
    "ss4[ss4.valid == 0].vccsid.mean(), ss4[ss4.valid == 1].vccsid.mean()"
   ]
  },
  {
   "cell_type": "code",
   "execution_count": 39,
   "metadata": {},
   "outputs": [
    {
     "data": {
      "text/plain": [
       "Counter({0: 33942, 1: 8284})"
      ]
     },
     "execution_count": 39,
     "metadata": {},
     "output_type": "execute_result"
    }
   ],
   "source": [
    "Counter(section_size1.drop(['vccsid','grade','online_ind'], axis=1).drop_duplicates().valid)"
   ]
  },
  {
   "cell_type": "code",
   "execution_count": 40,
   "metadata": {},
   "outputs": [
    {
     "data": {
      "text/plain": [
       "Counter({0: 47145, 1: 16645})"
      ]
     },
     "execution_count": 40,
     "metadata": {},
     "output_type": "execute_result"
    }
   ],
   "source": [
    "Counter(section_size2.drop(['vccsid','grade','online_ind'], axis=1).drop_duplicates().valid)"
   ]
  },
  {
   "cell_type": "code",
   "execution_count": 41,
   "metadata": {
    "collapsed": true
   },
   "outputs": [],
   "source": [
    "section_size1.loc[:,'first_ind'] = 1\n",
    "section_size2.loc[:,'first_ind'] = 0\n",
    "section_size_all = pd.concat([section_size1, section_size2])"
   ]
  },
  {
   "cell_type": "code",
   "execution_count": 42,
   "metadata": {},
   "outputs": [
    {
     "data": {
      "text/plain": [
       "Counter({2193: 102744, 2194: 332187, 2203: 120040, 2204: 325063, 2212: 293844})"
      ]
     },
     "execution_count": 42,
     "metadata": {},
     "output_type": "execute_result"
    }
   ],
   "source": [
    "Counter(section_size_all.strm)"
   ]
  },
  {
   "cell_type": "code",
   "execution_count": 43,
   "metadata": {},
   "outputs": [
    {
     "name": "stdout",
     "output_type": "stream",
     "text": [
      "ENG_111\n",
      "482.0\n",
      "195.5\n",
      "972.0\n",
      "8973.0\n",
      "3327.5\n",
      "19291.5\n",
      "18.62863070539419\n",
      "16.877949735449736\n",
      "19.850281517048217\n",
      "\n",
      "ENG_112\n",
      "602.0\n",
      "155.0\n",
      "351.5\n",
      "11466.0\n",
      "2985.5\n",
      "6996.5\n",
      "19.05481727574751\n",
      "19.274558774558777\n",
      "19.92606238258729\n",
      "\n",
      "BIO_101\n",
      "391.0\n",
      "151.0\n",
      "525.0\n",
      "5237.0\n",
      "2058.0\n",
      "7573.5\n",
      "22.713554987212277\n",
      "20.109984639016897\n",
      "22.698095238095238\n",
      "\n",
      "MTH_154\n",
      "254.0\n",
      "100.0\n",
      "335.5\n",
      "5736.0\n",
      "1998.0\n",
      "7715.5\n",
      "22.590551181102363\n",
      "19.621757705218187\n",
      "23.00075987841945\n",
      "\n",
      "MTH_161\n",
      "213.0\n",
      "76.0\n",
      "293.5\n",
      "4075.0\n",
      "1409.5\n",
      "6528.5\n",
      "19.154929577464788\n",
      "18.6395670995671\n",
      "22.272650227547132\n",
      "\n"
     ]
    }
   ],
   "source": [
    "for c in ['ENG_111', 'ENG_112', 'BIO_101', 'MTH_154', 'MTH_161']:\n",
    "    sub = section_size_all[section_size_all.course == c]\n",
    "    sp = sub[sub.strm.apply(lambda x: x % 10 == 2)]\n",
    "    su = sub[sub.strm.apply(lambda x: x % 10 == 3)]\n",
    "    fa = sub[sub.strm.apply(lambda x: x % 10 == 4)]\n",
    "    print(c)\n",
    "    print(sp.loc[:,['strm','college','section']].drop_duplicates().groupby(['strm']).agg({'section':'count'}).section.mean())\n",
    "    print(su.loc[:,['strm','college','section']].drop_duplicates().groupby(['strm']).agg({'section':'count'}).section.mean())\n",
    "    print(fa.loc[:,['strm','college','section']].drop_duplicates().groupby(['strm']).agg({'section':'count'}).section.mean())\n",
    "    print(sp.loc[:,['strm','vccsid']].drop_duplicates().groupby(['strm']).agg({'vccsid':'count'}).vccsid.mean())\n",
    "    print(su.loc[:,['strm','vccsid']].drop_duplicates().groupby(['strm']).agg({'vccsid':'count'}).vccsid.mean())\n",
    "    print(fa.loc[:,['strm','vccsid']].drop_duplicates().groupby(['strm']).agg({'vccsid':'count'}).vccsid.mean())\n",
    "    print(sp.groupby(['strm', 'college', 'section']).agg({'vccsid':'count'}).reset_index().groupby(['strm']).agg({'vccsid':'mean'}).vccsid.mean())\n",
    "    print(su.groupby(['strm', 'college', 'section']).agg({'vccsid':'count'}).reset_index().groupby(['strm']).agg({'vccsid':'mean'}).vccsid.mean())\n",
    "    print(fa.groupby(['strm', 'college', 'section']).agg({'vccsid':'count'}).reset_index().groupby(['strm']).agg({'vccsid':'mean'}).vccsid.mean())\n",
    "    print('')"
   ]
  },
  {
   "cell_type": "code",
   "execution_count": 44,
   "metadata": {},
   "outputs": [
    {
     "name": "stdout",
     "output_type": "stream",
     "text": [
      "ENG_111\n",
      "482.0\n",
      "583.75\n",
      "8973.0\n",
      "11309.5\n",
      "18.62863070539419\n",
      "18.364115626248978\n",
      "\n",
      "ENG_112\n",
      "602.0\n",
      "253.25\n",
      "11466.0\n",
      "4991.0\n",
      "19.05481727574751\n",
      "19.600310578573033\n",
      "\n",
      "BIO_101\n",
      "391.0\n",
      "338.0\n",
      "5237.0\n",
      "4815.75\n",
      "22.713554987212277\n",
      "21.404039938556068\n",
      "\n",
      "MTH_154\n",
      "254.0\n",
      "217.75\n",
      "5736.0\n",
      "4856.75\n",
      "22.590551181102363\n",
      "21.31125879181882\n",
      "\n",
      "MTH_161\n",
      "213.0\n",
      "184.75\n",
      "4075.0\n",
      "3969.0\n",
      "19.154929577464788\n",
      "20.456108663557117\n",
      "\n"
     ]
    }
   ],
   "source": [
    "for c in ['ENG_111', 'ENG_112', 'BIO_101', 'MTH_154', 'MTH_161']:\n",
    "    sub = section_size_all[section_size_all.course == c]\n",
    "    sp = sub[sub.strm.apply(lambda x: x % 10 == 2)]\n",
    "    fa = sub[sub.strm.apply(lambda x: x % 10 != 2)]\n",
    "    print(c)\n",
    "    print(sp.loc[:,['strm','college','section']].drop_duplicates().groupby(['strm']).agg({'section':'count'}).section.mean())\n",
    "    print(fa.loc[:,['strm','college','section']].drop_duplicates().groupby(['strm']).agg({'section':'count'}).section.mean())\n",
    "    print(sp.loc[:,['strm','vccsid']].drop_duplicates().groupby(['strm']).agg({'vccsid':'count'}).vccsid.mean())\n",
    "    print(fa.loc[:,['strm','vccsid']].drop_duplicates().groupby(['strm']).agg({'vccsid':'count'}).vccsid.mean())\n",
    "    print(sp.groupby(['strm', 'college', 'section']).agg({'vccsid':'count'}).reset_index().groupby(['strm']).agg({'vccsid':'mean'}).vccsid.mean())\n",
    "    print(fa.groupby(['strm', 'college', 'section']).agg({'vccsid':'count'}).reset_index().groupby(['strm']).agg({'vccsid':'mean'}).vccsid.mean())\n",
    "    print('')"
   ]
  },
  {
   "cell_type": "code",
   "execution_count": 45,
   "metadata": {
    "collapsed": true
   },
   "outputs": [],
   "source": [
    "def num_grade(g):\n",
    "    if g == \"A\":\n",
    "        return 4\n",
    "    elif g == \"B\":\n",
    "        return 3\n",
    "    elif g == \"C\":\n",
    "        return 2\n",
    "    elif g == \"D\":\n",
    "        return 1\n",
    "    else:\n",
    "        return 0"
   ]
  },
  {
   "cell_type": "code",
   "execution_count": 46,
   "metadata": {},
   "outputs": [
    {
     "name": "stdout",
     "output_type": "stream",
     "text": [
      "ENG_111\n"
     ]
    },
    {
     "name": "stderr",
     "output_type": "stream",
     "text": [
      "C:\\Users\\ys8mz\\AppData\\Local\\Continuum\\Anaconda3\\lib\\site-packages\\pandas\\core\\indexing.py:362: SettingWithCopyWarning: \n",
      "A value is trying to be set on a copy of a slice from a DataFrame.\n",
      "Try using .loc[row_indexer,col_indexer] = value instead\n",
      "\n",
      "See the caveats in the documentation: http://pandas.pydata.org/pandas-docs/stable/indexing.html#indexing-view-versus-copy\n",
      "  self.obj[key] = _infer_fill_value(value)\n",
      "C:\\Users\\ys8mz\\AppData\\Local\\Continuum\\Anaconda3\\lib\\site-packages\\pandas\\core\\indexing.py:543: SettingWithCopyWarning: \n",
      "A value is trying to be set on a copy of a slice from a DataFrame.\n",
      "Try using .loc[row_indexer,col_indexer] = value instead\n",
      "\n",
      "See the caveats in the documentation: http://pandas.pydata.org/pandas-docs/stable/indexing.html#indexing-view-versus-copy\n",
      "  self.obj[item] = s\n"
     ]
    },
    {
     "name": "stdout",
     "output_type": "stream",
     "text": [
      "2.437199036918138\n",
      "0.32869892314500665\n",
      "0.5211867532084378\n",
      "\n",
      "ENG_112\n",
      "2.7272695579417094\n",
      "0.27021012811139017\n",
      "0.05044982038973837\n",
      "\n",
      "BIO_101\n",
      "2.53661584603849\n",
      "0.26720094830696284\n",
      "0.1700252538267278\n",
      "\n",
      "MTH_154\n",
      "2.322249955428775\n",
      "0.361390268123138\n",
      "0.24957298907646475\n",
      "\n",
      "MTH_161\n",
      "2.2224116644129577\n",
      "0.41514438716780944\n",
      "0.29913417746859516\n",
      "\n"
     ]
    }
   ],
   "source": [
    "for c in ['ENG_111', 'ENG_112', 'BIO_101', 'MTH_154', 'MTH_161']:\n",
    "    print(c)\n",
    "    sub = section_size_all[section_size_all.course == c]\n",
    "    sub.loc[:,'dfw_ind'] = sub.grade.apply(lambda x: x in {'D','F','W'})\n",
    "    sub_grade = sub[sub.grade != \"W\"]\n",
    "    sub_grade.loc[:,'num_grade'] = sub_grade.grade.apply(lambda x: num_grade(x))\n",
    "    print(sub_grade.num_grade.mean())\n",
    "    print(sub.dfw_ind.mean())\n",
    "    print(sub.first_ind.mean())\n",
    "    print(\"\")"
   ]
  },
  {
   "cell_type": "code",
   "execution_count": 47,
   "metadata": {},
   "outputs": [
    {
     "name": "stdout",
     "output_type": "stream",
     "text": [
      "ENG_111\n"
     ]
    },
    {
     "name": "stderr",
     "output_type": "stream",
     "text": [
      "C:\\Users\\ys8mz\\AppData\\Local\\Continuum\\Anaconda3\\lib\\site-packages\\pandas\\core\\indexing.py:362: SettingWithCopyWarning: \n",
      "A value is trying to be set on a copy of a slice from a DataFrame.\n",
      "Try using .loc[row_indexer,col_indexer] = value instead\n",
      "\n",
      "See the caveats in the documentation: http://pandas.pydata.org/pandas-docs/stable/indexing.html#indexing-view-versus-copy\n",
      "  self.obj[key] = _infer_fill_value(value)\n",
      "C:\\Users\\ys8mz\\AppData\\Local\\Continuum\\Anaconda3\\lib\\site-packages\\pandas\\core\\indexing.py:543: SettingWithCopyWarning: \n",
      "A value is trying to be set on a copy of a slice from a DataFrame.\n",
      "Try using .loc[row_indexer,col_indexer] = value instead\n",
      "\n",
      "See the caveats in the documentation: http://pandas.pydata.org/pandas-docs/stable/indexing.html#indexing-view-versus-copy\n",
      "  self.obj[item] = s\n"
     ]
    },
    {
     "name": "stdout",
     "output_type": "stream",
     "text": [
      "       num_grade\n",
      "valid           \n",
      "0       2.479077\n",
      "1       2.219570\n",
      "        dfw_ind\n",
      "valid          \n",
      "0      0.313173\n",
      "1      0.406950\n",
      "       first_ind\n",
      "valid           \n",
      "0       0.562482\n",
      "1       0.313064\n",
      "       online_ind\n",
      "valid            \n",
      "0        0.591673\n",
      "1        0.991870\n",
      "\n",
      "ENG_112\n",
      "       num_grade\n",
      "valid           \n",
      "0       2.719424\n",
      "1       2.740626\n",
      "        dfw_ind\n",
      "valid          \n",
      "0      0.278395\n",
      "1      0.255950\n",
      "       first_ind\n",
      "valid           \n",
      "0       0.069949\n",
      "1       0.016476\n",
      "       online_ind\n",
      "valid            \n",
      "0        0.691184\n",
      "1        0.988057\n",
      "\n",
      "BIO_101\n",
      "       num_grade\n",
      "valid           \n",
      "0       2.543017\n",
      "1       2.514848\n",
      "        dfw_ind\n",
      "valid          \n",
      "0      0.261487\n",
      "1      0.286454\n",
      "       first_ind\n",
      "valid           \n",
      "0       0.200301\n",
      "1       0.068010\n",
      "       online_ind\n",
      "valid            \n",
      "0        0.594018\n",
      "1        0.999099\n",
      "\n",
      "MTH_154\n",
      "       num_grade\n",
      "valid           \n",
      "0       2.341853\n",
      "1       2.255682\n",
      "        dfw_ind\n",
      "valid          \n",
      "0      0.353141\n",
      "1      0.389334\n",
      "       first_ind\n",
      "valid           \n",
      "0       0.288625\n",
      "1       0.117288\n",
      "       online_ind\n",
      "valid            \n",
      "0        0.628029\n",
      "1        0.971070\n",
      "\n",
      "MTH_161\n",
      "       num_grade\n",
      "valid           \n",
      "0       2.210592\n",
      "1       2.269479\n",
      "        dfw_ind\n",
      "valid          \n",
      "0      0.413810\n",
      "1      0.420343\n",
      "       first_ind\n",
      "valid           \n",
      "0       0.346708\n",
      "1       0.113725\n",
      "       online_ind\n",
      "valid            \n",
      "0        0.572417\n",
      "1        0.969853\n",
      "\n"
     ]
    }
   ],
   "source": [
    "for c in ['ENG_111', 'ENG_112', 'BIO_101', 'MTH_154', 'MTH_161']:\n",
    "    print(c)\n",
    "    sub = section_size_all[section_size_all.course == c]\n",
    "    sub.loc[:,'dfw_ind'] = sub.grade.apply(lambda x: x in {'D','F','W'})\n",
    "    sub_grade = sub[sub.grade != \"W\"]\n",
    "    sub_grade.loc[:,'num_grade'] = sub_grade.grade.apply(lambda x: num_grade(x))\n",
    "    print(sub_grade.groupby(['valid']).agg({'num_grade':'mean'}))\n",
    "    print(sub.groupby(['valid']).agg({'dfw_ind':'mean'}))\n",
    "    print(sub.groupby(['valid']).agg({'first_ind':'mean'}))\n",
    "    print(sub.groupby(['valid']).agg({'online_ind':'mean'}))\n",
    "    print(\"\")"
   ]
  },
  {
   "cell_type": "code",
   "execution_count": 48,
   "metadata": {},
   "outputs": [
    {
     "name": "stdout",
     "output_type": "stream",
     "text": [
      "ENG_111\n",
      "Counter({0: 45253, 1: 8979})\n",
      "ENG_112\n",
      "Counter({0: 19986, 1: 11471})\n",
      "BIO_101\n",
      "Counter({0: 29925, 1: 8881})\n",
      "MTH_154\n",
      "Counter({0: 19437, 1: 5738})\n",
      "MTH_161\n",
      "Counter({0: 15901, 1: 4080})\n"
     ]
    }
   ],
   "source": [
    "for c in ['ENG_111', 'ENG_112', 'BIO_101', 'MTH_154', 'MTH_161']:\n",
    "    print(c)\n",
    "    print(Counter(section_size_all[section_size_all.course == c].valid))"
   ]
  },
  {
   "cell_type": "code",
   "execution_count": null,
   "metadata": {
    "collapsed": true
   },
   "outputs": [],
   "source": []
  }
 ],
 "metadata": {
  "kernelspec": {
   "display_name": "Python 3",
   "language": "python",
   "name": "python3"
  },
  "language_info": {
   "codemirror_mode": {
    "name": "ipython",
    "version": 3
   },
   "file_extension": ".py",
   "mimetype": "text/x-python",
   "name": "python",
   "nbconvert_exporter": "python",
   "pygments_lexer": "ipython3",
   "version": "3.5.3"
  }
 },
 "nbformat": 4,
 "nbformat_minor": 2
}
