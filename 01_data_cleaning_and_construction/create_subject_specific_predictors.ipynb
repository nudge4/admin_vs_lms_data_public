{
 "cells": [
  {
   "cell_type": "markdown",
   "metadata": {},
   "source": [
    "This script creates the subject-specific predictors: interaction between the subject the target course belongs to and the subjects the previously taken courses belong to."
   ]
  },
  {
   "cell_type": "code",
   "execution_count": 7,
   "metadata": {
    "collapsed": true
   },
   "outputs": [],
   "source": [
    "import pandas as pd\n",
    "import numpy as np"
   ]
  },
  {
   "cell_type": "code",
   "execution_count": 4,
   "metadata": {
    "collapsed": true
   },
   "outputs": [],
   "source": [
    "df1 = pd.read_stata(\"~\\\\Box Sync\\\\Clickstream\\\\data\\\\LMS_data_new.dta\")\n",
    "df2 = pd.read_stata(\"~\\\\Box Sync\\\\Clickstream\\\\data\\\\prior_courses.dta\")"
   ]
  },
  {
   "cell_type": "code",
   "execution_count": 8,
   "metadata": {
    "collapsed": true
   },
   "outputs": [],
   "source": [
    "all_subjects = []\n",
    "for cn in list(df1.course) + list(df2.course):\n",
    "    all_subjects.append(cn.split(\"_\")[0])\n",
    "all_subjects = np.unique(all_subjects)"
   ]
  },
  {
   "cell_type": "code",
   "execution_count": 9,
   "metadata": {},
   "outputs": [
    {
     "data": {
      "text/plain": [
       "array(['ACC', 'ADJ', 'AGR', 'AIR', 'ARA', 'ARC', 'ARO', 'ART', 'ASL',\n",
       "       'AST', 'AUT', 'BCS', 'BIO', 'BLD', 'BSK', 'BUS', 'CAD', 'CHD',\n",
       "       'CHI', 'CHM', 'COS', 'CRF', 'CSC', 'CSP', 'CST', 'DAN', 'DIT',\n",
       "       'DMS', 'DNA', 'DNH', 'DRF', 'ECO', 'EDE', 'EDU', 'EGR', 'ELE',\n",
       "       'EMS', 'EMT', 'ENE', 'ENF', 'ENG', 'ENV', 'EQU', 'ESL', 'ETR',\n",
       "       'FIN', 'FIR', 'FOR', 'FRE', 'FST', 'GEO', 'GER', 'GIS', 'GOL',\n",
       "       'HCT', 'HIM', 'HIS', 'HIT', 'HLT', 'HMS', 'HRI', 'HRT', 'HUM',\n",
       "       'IND', 'IST', 'ITA', 'ITD', 'ITE', 'ITN', 'ITP', 'JPN', 'KOR',\n",
       "       'LAT', 'LBR', 'LGL', 'MAC', 'MAR', 'MCR', 'MDE', 'MDL', 'MEC',\n",
       "       'MEN', 'MKT', 'MSC', 'MTE', 'MTH', 'MTT', 'MUS', 'NAS', 'NSG',\n",
       "       'NUR', 'OCT', 'PED', 'PHI', 'PHT', 'PHY', 'PLS', 'PNE', 'PNG',\n",
       "       'PNT', 'PSG', 'PSY', 'PTH', 'RAD', 'REA', 'REL', 'RPK', 'RTH',\n",
       "       'RUS', 'RVH', 'SAF', 'SCM', 'SCT', 'SDV', 'SOC', 'SPA', 'SPD',\n",
       "       'SSC', 'STD', 'SUR', 'TEL', 'TRK', 'TRV', 'VEN', 'VET', 'WEL'],\n",
       "      dtype='<U3')"
      ]
     },
     "execution_count": 9,
     "metadata": {},
     "output_type": "execute_result"
    }
   ],
   "source": [
    "all_subjects"
   ]
  },
  {
   "cell_type": "code",
   "execution_count": 13,
   "metadata": {
    "collapsed": true
   },
   "outputs": [],
   "source": [
    "subj_dict = {'BUS': ['ACC', 'BUS', 'MKT', 'HRI', 'FIN', 'REA'],\n",
    "             'ART': ['ART', 'DAN', 'MUS', 'HRT', 'CRF', 'PHT'],\n",
    "             'SCI': ['BIO', 'GOL', 'PHY', 'NAS', 'CHM', 'SCT'],\n",
    "             'EGR': ['EGR', 'CSC', 'ITD', 'ITE', 'ITN', 'ITP',\n",
    "                     'HIM', 'ENE', 'GIS', 'ENV', 'HIT', 'ARC',\n",
    "                     'ETR', 'AST', 'IND', 'IST', 'DRF', 'CAD', \n",
    "                     'TEL', 'MEC'],\n",
    "             'MTH': ['MTE', 'MTH', 'MTT', 'MCR', 'MDE'],\n",
    "             'SOC': ['EDU', 'SOC', 'ECO', 'GEO', 'HIS', 'PSY',\n",
    "                     'PLS', 'ADJ', 'LGL', 'CHD', 'SSC'],\n",
    "             'MED': ['EMS', 'NUR', 'HLT', 'PED', 'DMS', 'RAD', \n",
    "                     'EMT', 'PNE', 'DNA', 'SUR', 'NSG', 'HCT',\n",
    "                     'DNH', 'OCT', 'CSP', 'DIT', 'PSG', 'PNG',\n",
    "                     'PTH', 'MEN', 'MDL', 'RTH'],\n",
    "             'HUM': ['HUM', 'CST', 'PHI', 'REL', 'ENG', 'ENF',\n",
    "                     'EDE', 'HMS', 'SDV', 'SPD', 'STD', 'SCM'],\n",
    "             'FLA': ['ASL', 'ARA', 'FRE', 'GER', 'JPN', 'KOR',\n",
    "                     'ITA', 'LAT', 'SPA', 'CHI', 'ESL', 'RUS'],\n",
    "             'OCC': ['FST', 'AGR', 'AIR', 'ARO', 'AUT', 'FOR',\n",
    "                     'FIR', 'WEL', 'VET', 'EQU', 'LBR', 'BCS',\n",
    "                     'BLD', 'BSK', 'COS', 'VEN', 'TRK', 'TRV',\n",
    "                     'PNT', 'MSC', 'MAR', 'MAC', 'ELE', 'RVH',\n",
    "                     'RPK', 'SAF']}\n",
    "subj_inverse_dict = {e:k for k,v in subj_dict.items() for e in v}\n",
    "assert len(subj_inverse_dict) == len(all_subjects)"
   ]
  },
  {
   "cell_type": "code",
   "execution_count": 28,
   "metadata": {
    "collapsed": true
   },
   "outputs": [],
   "source": [
    "df2.loc[:,'subject'] = df2.course.apply(lambda x: x.split(\"_\")[0])\n",
    "df2.loc[:,'cluster'] = df2.subject.apply(lambda x: subj_inverse_dict[x])\n",
    "df2.loc[:,'grade_point'] = df2.credit * df2.est_grade"
   ]
  },
  {
   "cell_type": "code",
   "execution_count": 26,
   "metadata": {
    "collapsed": true
   },
   "outputs": [],
   "source": [
    "cluster_dict = {}\n",
    "for strm in [2193, 2194, 2203, 2204, 2212]:\n",
    "    df2_sub = df2[df2.strm < strm].copy()\n",
    "    df2_sub_agg = df2_sub.groupby(['vccsid', 'cluster']).agg({'credit':'sum', 'grade_point':'sum'}).reset_index()\n",
    "    df2_sub_agg.loc[:,'est_grade'] = df2_sub_agg.grade_point/df2_sub_agg.credit\n",
    "    for i in range(df2_sub_agg.shape[0]):\n",
    "        vccsid = df2_sub_agg.vccsid.iloc[i]\n",
    "        cluster = df2_sub_agg.cluster.iloc[i]\n",
    "        est_grade = df2_sub_agg.est_grade.iloc[i]\n",
    "        try:\n",
    "            cluster_dict[vccsid + \"_\" + str(strm)].append((cluster, est_grade))\n",
    "        except KeyError:\n",
    "            cluster_dict[vccsid + \"_\" + str(strm)] = [(cluster, est_grade)]"
   ]
  },
  {
   "cell_type": "code",
   "execution_count": 31,
   "metadata": {
    "collapsed": true
   },
   "outputs": [],
   "source": [
    "df1.loc[:,'subject'] = df1.course.apply(lambda x: x.split(\"_\")[0])\n",
    "df1.loc[:,'cluster'] = df1.subject.apply(lambda x: subj_inverse_dict[x])"
   ]
  },
  {
   "cell_type": "code",
   "execution_count": 37,
   "metadata": {
    "collapsed": true
   },
   "outputs": [],
   "source": [
    "full_cluster_dict = {}\n",
    "for i in range(df1.shape[0]):\n",
    "    vccsid = df1.vccsid.iloc[i]\n",
    "    strm = df1.strm.iloc[i]\n",
    "    course = df1.course.iloc[i]\n",
    "    section  = df1.section.iloc[i]\n",
    "    subject = df1.subject.iloc[i]\n",
    "    cluster = df1.cluster.iloc[i]\n",
    "    l = []\n",
    "    if vccsid + \"_\" + str(strm) in cluster_dict:\n",
    "        ll = cluster_dict[vccsid + \"_\" + str(strm)]\n",
    "        l = [(t[0]+\"_\"+cluster, t[1]) for t in ll]\n",
    "    d = {}\n",
    "    for t in l:\n",
    "        d[t[0]] = 1\n",
    "        d[t[0] + \"_grade\"] = t[1]\n",
    "    full_cluster_dict[\"-\".join([vccsid, str(strm), course, section])] = d.copy()"
   ]
  },
  {
   "cell_type": "code",
   "execution_count": 69,
   "metadata": {
    "collapsed": true
   },
   "outputs": [],
   "source": [
    "full_cluster_df = pd.DataFrame.from_dict(full_cluster_dict, orient='index')\n",
    "for indx,var in enumerate(['vccsid','strm','course','section']):\n",
    "    full_cluster_df.loc[:,var] = list(pd.Series(list(full_cluster_df.index)).apply(lambda x: x.split(\"-\")[indx]))\n",
    "full_cluster_df.loc[:,'strm'] = full_cluster_df.strm.astype(int)\n",
    "full_cluster_df = df1.loc[:,['vccsid','strm','course','section']].merge(full_cluster_df, how='left',\n",
    "                                                                        on = ['vccsid','strm','course','section']).fillna(0)"
   ]
  },
  {
   "cell_type": "code",
   "execution_count": 72,
   "metadata": {
    "collapsed": true
   },
   "outputs": [],
   "source": [
    "full_cluster_df.to_csv(\"~\\\\Box Sync\\\\Clickstream\\\\data\\\\cluster_specific_predictors.csv\", index=False)"
   ]
  },
  {
   "cell_type": "code",
   "execution_count": null,
   "metadata": {
    "collapsed": true
   },
   "outputs": [],
   "source": []
  }
 ],
 "metadata": {
  "kernelspec": {
   "display_name": "Python 3",
   "language": "python",
   "name": "python3"
  },
  "language_info": {
   "codemirror_mode": {
    "name": "ipython",
    "version": 3
   },
   "file_extension": ".py",
   "mimetype": "text/x-python",
   "name": "python",
   "nbconvert_exporter": "python",
   "pygments_lexer": "ipython3",
   "version": "3.5.3"
  }
 },
 "nbformat": 4,
 "nbformat_minor": 2
}
