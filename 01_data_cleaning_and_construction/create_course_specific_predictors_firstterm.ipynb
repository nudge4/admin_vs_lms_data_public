{
 "cells": [
  {
   "cell_type": "markdown",
   "metadata": {},
   "source": [
    "This script creates all course-specific predictors for the study sample of all first-term observations."
   ]
  },
  {
   "cell_type": "code",
   "execution_count": 2,
   "metadata": {
    "collapsed": true
   },
   "outputs": [],
   "source": [
    "import pickle\n",
    "import pandas as pd\n",
    "import numpy as np"
   ]
  },
  {
   "cell_type": "code",
   "execution_count": 2,
   "metadata": {
    "collapsed": true
   },
   "outputs": [],
   "source": [
    "target_courses = pd.read_stata(\"~\\\\Box Sync\\\\Clickstream\\\\data\\\\first\\\\part1_new.dta\")"
   ]
  },
  {
   "cell_type": "code",
   "execution_count": 3,
   "metadata": {
    "collapsed": true
   },
   "outputs": [],
   "source": [
    "avg_grades = pd.read_stata(\"~\\\\Box Sync\\\\Clickstream\\\\data\\\\full\\\\avg_grades.dta\")\n",
    "avg_dict = {}\n",
    "avg_dict_2 = {}\n",
    "for j in range(avg_grades.shape[0]):\n",
    "    course = avg_grades.course.iloc[j]\n",
    "    strm = avg_grades.strm.iloc[j]\n",
    "    college = avg_grades.college.iloc[j]\n",
    "    avg_dict[(course,strm,college)] = avg_grades.avg_grade.iloc[j]\n",
    "    avg_dict_2[(strm,college)] = avg_grades.avg_grade_2.iloc[j]"
   ]
  },
  {
   "cell_type": "code",
   "execution_count": 4,
   "metadata": {
    "collapsed": true
   },
   "outputs": [],
   "source": [
    "avg_g = []\n",
    "for i in range(target_courses.shape[0]):\n",
    "    course = target_courses.course.iloc[i]\n",
    "    strm = target_courses.strm.iloc[i]\n",
    "    college = target_courses.college.iloc[i]\n",
    "    try:\n",
    "        avg_g.append(avg_dict[(course,strm,college)])\n",
    "    except KeyError:\n",
    "        avg_g.append(avg_dict_2[(strm,college)])\n",
    "target_courses.loc[:,'avg_g'] = avg_g"
   ]
  },
  {
   "cell_type": "code",
   "execution_count": 5,
   "metadata": {
    "collapsed": true
   },
   "outputs": [],
   "source": [
    "target_courses.loc[:,'summer_ind'] = target_courses.strm.apply(lambda x: int(x % 10 == 3))"
   ]
  },
  {
   "cell_type": "code",
   "execution_count": 6,
   "metadata": {},
   "outputs": [
    {
     "data": {
      "text/plain": [
       "array(['vccsid', 'college', 'section', 'strm', 'section_size', 'eve_ind',\n",
       "       'online_ind', 'lvl2_ind', 'course', 'avg_session_len_qrt1',\n",
       "       'avg_word_tot_qtr1', 'disc_post_cnt_qtr1', 'disc_reply_cnt_qtr1',\n",
       "       'disc_tot_messages_qtr1', 'irreg_session_len_qrt1',\n",
       "       'late_assign_cnt_qtr1', 'on_time_assign_cnt_qtr1',\n",
       "       'tot_click_cnt_qrt1', 'tot_time_qrt1', 'avg_g', 'summer_ind'],\n",
       "      dtype=object)"
      ]
     },
     "execution_count": 6,
     "metadata": {},
     "output_type": "execute_result"
    }
   ],
   "source": [
    "target_courses.columns.values"
   ]
  },
  {
   "cell_type": "code",
   "execution_count": 7,
   "metadata": {},
   "outputs": [
    {
     "name": "stdout",
     "output_type": "stream",
     "text": [
      "(213732, 11)\n"
     ]
    }
   ],
   "source": [
    "target_courses = target_courses.loc[:,['vccsid','strm','college','course','section',\n",
    "                                       'summer_ind', 'section_size', 'eve_ind', 'online_ind', 'lvl2_ind',\n",
    "                                       'avg_g']]\n",
    "print(target_courses.shape)"
   ]
  },
  {
   "cell_type": "code",
   "execution_count": 8,
   "metadata": {
    "collapsed": true
   },
   "outputs": [],
   "source": [
    "target_courses.to_csv(\"C:\\\\Users\\\\ys8mz\\\\Box Sync\\\\Clickstream\\\\data\\\\first\\\\course_specific_predictors.csv\", index=False)"
   ]
  },
  {
   "cell_type": "code",
   "execution_count": null,
   "metadata": {
    "collapsed": true
   },
   "outputs": [],
   "source": []
  }
 ],
 "metadata": {
  "kernelspec": {
   "display_name": "Python 3",
   "language": "python",
   "name": "python3"
  },
  "language_info": {
   "codemirror_mode": {
    "name": "ipython",
    "version": 3
   },
   "file_extension": ".py",
   "mimetype": "text/x-python",
   "name": "python",
   "nbconvert_exporter": "python",
   "pygments_lexer": "ipython3",
   "version": "3.5.3"
  }
 },
 "nbformat": 4,
 "nbformat_minor": 2
}
